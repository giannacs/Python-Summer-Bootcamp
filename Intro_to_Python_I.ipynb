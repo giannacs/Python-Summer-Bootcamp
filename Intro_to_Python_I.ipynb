{
 "cells": [
  {
   "cell_type": "markdown",
   "metadata": {},
   "source": [
    "# Objectives\n",
    "\n",
    "\n",
    "* **Introduction to Python Part I**<br><br>\n",
    "\n",
    "* **Hands-on**\n",
    " * Syntax\n",
    " * Strings\n",
    " * Lists\n",
    " * Comparators<br><br>\n",
    "\n",
    "* **Future Topics**<br><br>\n",
    "\n",
    "* **Helpful hints & resources**"
   ]
  },
  {
   "cell_type": "markdown",
   "metadata": {},
   "source": [
    "# Introduction\n",
    "\n",
    "### What is Python\n",
    "* General purpose, \n",
    " * *High Level*\n",
    " * *Structured*\n",
    " * *Interpreted*\n",
    " * *Object-oriented Language*\n",
    "\n",
    "### Ways to run Python\n",
    "* Interactive Interpreter (Classic command line interpreter or Python Shell)\n",
    "* Script from command line - Used to run a python program\n",
    "* General purpose Integrated Development Environment (IDE)\n",
    "* Python dedicated IDEs like Spyder\n",
    "\n",
    "#### For more information visit: https://www.python.org/about/success"
   ]
  },
  {
   "attachments": {},
   "cell_type": "markdown",
   "metadata": {},
   "source": []
  },
  {
   "cell_type": "markdown",
   "metadata": {},
   "source": [
    "# Variables and Data Types\n",
    "\n",
    "### Variables\n",
    "* Stores a piece of data and gives it a specific name\n",
    "* Do not need to specify data type (No Declaration needed)\n",
    "* Equal sign **( = )** is used to assign values to variables"
   ]
  },
  {
   "cell_type": "markdown",
   "metadata": {},
   "source": [
    "# Exploring the Jupyter Interface\n",
    "### 'Files' tab\n",
    "* Navigate to the folder from which you want to work\n",
    "* Create new Python Notebooks, scripts with Text File, folders or Terminals\n",
    "### 'Running' tab\n",
    "* Monitor currently running Terminals and Notebooks\n",
    "### New Text Files/Scripts\n",
    "* New scripts are used to save python scripts or programs \n",
    "* New scripts are saved in the current folder path\n",
    "* Change the Language to python and rename the file with a **'.py'** extension\n",
    "### New Python Notebooks\n",
    "* A notebook allows you to create, save and share documents that contain live code\n",
    "* New Notebooks are saved in the current folder path as a .ipynb extension\n",
    "* You may rename the notebook\n",
    "* To add python code, select **'Code'** in the dropdown\n",
    " * Hit **Enter** to add another line in the current cell\n",
    " * Hit **Control-Enter** or click **Run** executes the code in a cell. This will automatically add a new cell below\n",
    "* To add normal text as narrative to the notebook, select **'Markdown'** or **'Heading'** in the dropdown\n",
    " * Go to this link for more on Markdowns - https://github.com/adam-p/markdown-here/wiki/Markdown-Cheatsheet"
   ]
  },
  {
   "cell_type": "code",
   "execution_count": 1,
   "metadata": {},
   "outputs": [],
   "source": [
    "v = 98"
   ]
  },
  {
   "cell_type": "markdown",
   "metadata": {},
   "source": [
    "**' v '** is the variable name\n",
    "<br>\n",
    "**' = '** is the assignment operator\n",
    "<br>\n",
    "**98** is the value\n",
    "\n",
    "#### Variable names\n",
    "* No spaces allowed (Use underscore or init caps, example - 'my_name' or 'myName')\n",
    "* No special symbols or characters like '\"@#%^&()-/\\* except the underscore '_'\n",
    "* Cannot begin with a number but may have a number within the variable name\n",
    "* The python community by convention begin variable names with small letters but caps are allowed anywhere else"
   ]
  },
  {
   "cell_type": "code",
   "execution_count": 1,
   "metadata": {},
   "outputs": [],
   "source": [
    "my_name = 'Edward Norton'"
   ]
  },
  {
   "cell_type": "code",
   "execution_count": null,
   "metadata": {
    "collapsed": true
   },
   "outputs": [],
   "source": [
    "v_1 = 8\n",
    "v_2 = 9"
   ]
  },
  {
   "cell_type": "markdown",
   "metadata": {},
   "source": [
    "#### Using a variable\n",
    "To use a variable, just type out the variable name. \n",
    "<br>\n",
    "See examples below"
   ]
  },
  {
   "cell_type": "code",
   "execution_count": null,
   "metadata": {
    "collapsed": true
   },
   "outputs": [],
   "source": [
    "print(my_name)"
   ]
  },
  {
   "cell_type": "code",
   "execution_count": null,
   "metadata": {
    "collapsed": true
   },
   "outputs": [],
   "source": [
    "age = v_1 + v_2"
   ]
  },
  {
   "cell_type": "code",
   "execution_count": null,
   "metadata": {
    "collapsed": true
   },
   "outputs": [],
   "source": [
    "print ('I am', age, 'years old')"
   ]
  },
  {
   "attachments": {},
   "cell_type": "markdown",
   "metadata": {},
   "source": [
    "\n",
    "1. **'print'** is a function that displays its arguments (inputs). It can take multiple arguments (inputs) separated by commas '**,**'.\n",
    "2. Parenthesis is compulsory for Python 3"
   ]
  },
  {
   "cell_type": "markdown",
   "metadata": {},
   "source": [
    "### Data types\n",
    "Data Types are implied. They do not have to be declared\n",
    "* Numeric types - int,long,float,complex\n",
    "* Boolean - True, False\n",
    "* String\n",
    "* List\n",
    "* Tuple\n",
    "* Dictionary "
   ]
  },
  {
   "cell_type": "markdown",
   "metadata": {},
   "source": [
    "# Math Operators"
   ]
  },
  {
   "cell_type": "markdown",
   "metadata": {},
   "source": [
    "#### Addition ( + )"
   ]
  },
  {
   "cell_type": "code",
   "execution_count": null,
   "metadata": {
    "collapsed": true
   },
   "outputs": [],
   "source": [
    "2+3"
   ]
  },
  {
   "cell_type": "markdown",
   "metadata": {},
   "source": [
    "#### Subtraction ( - )"
   ]
  },
  {
   "cell_type": "code",
   "execution_count": null,
   "metadata": {
    "collapsed": true
   },
   "outputs": [],
   "source": [
    "9-3"
   ]
  },
  {
   "cell_type": "markdown",
   "metadata": {},
   "source": [
    "#### Multiplication ( * )"
   ]
  },
  {
   "cell_type": "code",
   "execution_count": null,
   "metadata": {
    "collapsed": true
   },
   "outputs": [],
   "source": [
    "3*8"
   ]
  },
  {
   "cell_type": "markdown",
   "metadata": {},
   "source": [
    "#### Division( / )"
   ]
  },
  {
   "cell_type": "code",
   "execution_count": null,
   "metadata": {
    "collapsed": true
   },
   "outputs": [],
   "source": [
    "3/2"
   ]
  },
  {
   "cell_type": "markdown",
   "metadata": {},
   "source": [
    "#### Modulus( % )"
   ]
  },
  {
   "cell_type": "code",
   "execution_count": null,
   "metadata": {
    "collapsed": true
   },
   "outputs": [],
   "source": [
    "9%5"
   ]
  },
  {
   "cell_type": "markdown",
   "metadata": {},
   "source": [
    "#### Floor Division ( // )"
   ]
  },
  {
   "cell_type": "code",
   "execution_count": null,
   "metadata": {
    "collapsed": true
   },
   "outputs": [],
   "source": [
    "3//2"
   ]
  },
  {
   "cell_type": "markdown",
   "metadata": {},
   "source": [
    "#### Exponent( ** )"
   ]
  },
  {
   "cell_type": "code",
   "execution_count": null,
   "metadata": {
    "collapsed": true
   },
   "outputs": [],
   "source": [
    "2**3"
   ]
  },
  {
   "cell_type": "markdown",
   "metadata": {},
   "source": [
    "# Comments\n",
    "* Single line commenting symbol is the hash symbol '#'\n",
    "* The interpreter ignores everything after #\n",
    "* Leave comments in your code to make it understandable to other team members and for yourself"
   ]
  },
  {
   "cell_type": "code",
   "execution_count": null,
   "metadata": {
    "collapsed": true
   },
   "outputs": [],
   "source": [
    "# This line is ignored"
   ]
  },
  {
   "cell_type": "markdown",
   "metadata": {},
   "source": []
  },
  {
   "cell_type": "code",
   "execution_count": null,
   "metadata": {
    "collapsed": true
   },
   "outputs": [],
   "source": [
    "# This is a multiline comment\n",
    "# This line and the line above are both ignored by the interpreter"
   ]
  },
  {
   "cell_type": "markdown",
   "metadata": {},
   "source": [
    "# Exercise 1\n",
    "#### Tip Calculator!!\n",
    "Cost of meal = 54.76\n",
    "<br>\n",
    "Tax = 7.85%\n",
    "<br>\n",
    "Tip = 15%\n",
    "<br>\n",
    "Find the tax amount, cost after the tax, tip amount, and total cost"
   ]
  },
  {
   "cell_type": "code",
   "execution_count": null,
   "metadata": {
    "collapsed": true
   },
   "outputs": [],
   "source": [
    "# Create a variable for cost of meal, tax and tip and assign their values\n",
    "# Note that percentage is not captured in programming languages. Divide by 100 instead. \n",
    "cost_of_meal = 54.76\n",
    "\n",
    "\n",
    "\n",
    "\n",
    "# Calculate tax amount by creating a variable for it and assign it to a formula using the variables for cost of meal and tax\n",
    "\n",
    "\n",
    "# Calculate cost after tax\n",
    "\n",
    "\n",
    "# Calculate tip amount\n",
    "# Hint: Calculate the tip amount the cost after tax\n",
    "\n",
    "\n",
    "# Calculate total amount\n",
    "\n",
    "\n",
    "print('My original meal cost is', cost_of_meal)\n",
    "\n",
    "# Follow the example above and print the tax amount\n",
    "\n",
    "\n",
    "# Print the cost after tax\n",
    "\n",
    "\n",
    "# Print the tip amount\n",
    "\n",
    "\n",
    "# Print the total cost of the meal\n",
    "\n"
   ]
  },
  {
   "cell_type": "markdown",
   "metadata": {},
   "source": [
    "# Strings\n",
    "Any strand of all characters on the keyboard put in quotation.\n",
    "#### One line strings - declared in single quotes (' ') or double quotes (\" \")\n",
    "Single and double quotes can be used interchangeably"
   ]
  },
  {
   "cell_type": "code",
   "execution_count": null,
   "metadata": {
    "collapsed": true
   },
   "outputs": [],
   "source": [
    "name_1 = 'Dimitri Asimov'\n",
    "name_2 = \"The Man The Legend\""
   ]
  },
  {
   "cell_type": "code",
   "execution_count": null,
   "metadata": {
    "collapsed": true
   },
   "outputs": [],
   "source": [
    "# this is a string and not an integer\n",
    "age = '2'"
   ]
  },
  {
   "cell_type": "code",
   "execution_count": null,
   "metadata": {
    "collapsed": true
   },
   "outputs": [],
   "source": [
    "# Start with a double quote if you use a single quote in your string\n",
    "f = \"This is Giovanni's pencil\""
   ]
  },
  {
   "cell_type": "code",
   "execution_count": null,
   "metadata": {
    "collapsed": true
   },
   "outputs": [],
   "source": [
    "# Start with a single quote if you use a double quote in your string\n",
    "f = 'Buggati said \"This is my pencil\"'"
   ]
  },
  {
   "cell_type": "code",
   "execution_count": null,
   "metadata": {
    "collapsed": true
   },
   "outputs": [],
   "source": [
    "print (f)"
   ]
  },
  {
   "cell_type": "markdown",
   "metadata": {},
   "source": [
    "#### Multiple lines strings - declared in triple quotes ( \"\"\" \"\"\" or ''' ''' )"
   ]
  },
  {
   "cell_type": "code",
   "execution_count": null,
   "metadata": {
    "collapsed": true
   },
   "outputs": [],
   "source": [
    "eg = \"\"\"I am a physicist therefore I am always right \"\"\""
   ]
  },
  {
   "cell_type": "code",
   "execution_count": null,
   "metadata": {
    "collapsed": true
   },
   "outputs": [],
   "source": [
    "print(eg)"
   ]
  },
  {
   "cell_type": "markdown",
   "metadata": {},
   "source": [
    "#### Using triple quotes as comments\n",
    "Many developers use the triple quote as comments even though it is **not good programming practice**.\n",
    "\n",
    "The interpreter ignores any unassigned value only storing it in memory with no variable to track its address."
   ]
  },
  {
   "cell_type": "code",
   "execution_count": null,
   "metadata": {
    "collapsed": true
   },
   "outputs": [],
   "source": [
    "'''This can be used as a comment in\n",
    "your code. The interpreter ignores any unassigned value\n",
    "only storing it in memory with no variable to track its address'''\n",
    "\n",
    "# my real code starts here\n",
    "print(55)"
   ]
  },
  {
   "cell_type": "markdown",
   "metadata": {},
   "source": [
    "### String Indexing\n",
    "**Each character can be accessed by using their index starting from index 0**"
   ]
  },
  {
   "cell_type": "code",
   "execution_count": null,
   "metadata": {
    "collapsed": true
   },
   "outputs": [],
   "source": [
    "name = 'George Papadopoulos'"
   ]
  },
  {
   "cell_type": "code",
   "execution_count": null,
   "metadata": {
    "collapsed": true
   },
   "outputs": [],
   "source": [
    "name[0]"
   ]
  },
  {
   "cell_type": "code",
   "execution_count": null,
   "metadata": {
    "collapsed": true
   },
   "outputs": [],
   "source": [
    "name[1]"
   ]
  },
  {
   "cell_type": "code",
   "execution_count": null,
   "metadata": {
    "collapsed": true
   },
   "outputs": [],
   "source": [
    "name[6]"
   ]
  },
  {
   "cell_type": "code",
   "execution_count": null,
   "metadata": {
    "collapsed": true
   },
   "outputs": [],
   "source": [
    "name[12]"
   ]
  },
  {
   "cell_type": "markdown",
   "metadata": {},
   "source": [
    "**You can start indexing from the right side with negative indexes starting with index -1**"
   ]
  },
  {
   "cell_type": "code",
   "execution_count": null,
   "metadata": {
    "collapsed": true
   },
   "outputs": [],
   "source": [
    "name[-1]"
   ]
  },
  {
   "cell_type": "code",
   "execution_count": null,
   "metadata": {
    "collapsed": true
   },
   "outputs": [],
   "source": [
    "name[-2]"
   ]
  },
  {
   "cell_type": "code",
   "execution_count": null,
   "metadata": {
    "collapsed": true
   },
   "outputs": [],
   "source": [
    "name[-13]"
   ]
  },
  {
   "cell_type": "markdown",
   "metadata": {},
   "source": [
    "### Slicing\n",
    "**You can extract a range os characters**\n",
    "<br>\n",
    "Assume a string variable called **'var'**\n",
    "<br>\n",
    "**var[starting index : ending index + 1]**"
   ]
  },
  {
   "cell_type": "code",
   "execution_count": null,
   "metadata": {
    "collapsed": true
   },
   "outputs": [],
   "source": [
    "name"
   ]
  },
  {
   "cell_type": "code",
   "execution_count": null,
   "metadata": {
    "collapsed": true
   },
   "outputs": [],
   "source": [
    "name[0:6]"
   ]
  },
  {
   "cell_type": "code",
   "execution_count": null,
   "metadata": {
    "collapsed": true
   },
   "outputs": [],
   "source": [
    "name[7:13]"
   ]
  },
  {
   "cell_type": "code",
   "execution_count": null,
   "metadata": {
    "collapsed": true
   },
   "outputs": [],
   "source": [
    "name[1:4]"
   ]
  },
  {
   "attachments": {},
   "cell_type": "markdown",
   "metadata": {},
   "source": [
    "\n",
    "**Strings are \"IMMUTABLE\"**\n",
    "Once you create a string object, you cannot change a particular string location.\n",
    "<br>\n",
    "**name[6] = 'c'** \n",
    "<br>\n",
    "will result in the error below\n",
    "\n",
    "TypeError                                 Traceback (most recent call last)\n",
    "<br>\n",
    "< ipython-input-44-d47a2608aba2 > in < module >()\n",
    "<br>\n",
    "----> 1 name[6]='-'\n",
    "<br>\n",
    "TypeError: 'str' object does not support item assignment\n"
   ]
  },
  {
   "cell_type": "markdown",
   "metadata": {},
   "source": [
    "### Some String Functions and Methods\n",
    "\n",
    "**Length of string**"
   ]
  },
  {
   "cell_type": "code",
   "execution_count": null,
   "metadata": {
    "collapsed": true
   },
   "outputs": [],
   "source": [
    "len(name)"
   ]
  },
  {
   "cell_type": "markdown",
   "metadata": {},
   "source": [
    "**Convert to string**"
   ]
  },
  {
   "cell_type": "code",
   "execution_count": null,
   "metadata": {
    "collapsed": true
   },
   "outputs": [],
   "source": [
    "age = 3"
   ]
  },
  {
   "cell_type": "code",
   "execution_count": null,
   "metadata": {
    "collapsed": true
   },
   "outputs": [],
   "source": [
    "str(age)"
   ]
  },
  {
   "cell_type": "markdown",
   "metadata": {},
   "source": [
    "**Convert to lower case**"
   ]
  },
  {
   "cell_type": "code",
   "execution_count": null,
   "metadata": {
    "collapsed": true
   },
   "outputs": [],
   "source": [
    "name.lower()"
   ]
  },
  {
   "cell_type": "markdown",
   "metadata": {},
   "source": [
    "Convert to upper case"
   ]
  },
  {
   "cell_type": "code",
   "execution_count": null,
   "metadata": {
    "collapsed": true
   },
   "outputs": [],
   "source": [
    "name.upper()"
   ]
  },
  {
   "cell_type": "markdown",
   "metadata": {},
   "source": [
    "**Is digit/Is alpha**\n",
    "\n",
    "Output is a Boolean value (True/False)"
   ]
  },
  {
   "cell_type": "code",
   "execution_count": null,
   "metadata": {},
   "outputs": [],
   "source": [
    "name = 'Taylor'"
   ]
  },
  {
   "cell_type": "code",
   "execution_count": null,
   "metadata": {},
   "outputs": [],
   "source": [
    "name.isdigit()"
   ]
  },
  {
   "cell_type": "code",
   "execution_count": null,
   "metadata": {},
   "outputs": [],
   "source": [
    "name.isalpha()"
   ]
  },
  {
   "cell_type": "code",
   "execution_count": null,
   "metadata": {},
   "outputs": [],
   "source": [
    "str(age).isdigit()"
   ]
  },
  {
   "cell_type": "markdown",
   "metadata": {},
   "source": [
    "**Replace characters**"
   ]
  },
  {
   "cell_type": "code",
   "execution_count": null,
   "metadata": {},
   "outputs": [],
   "source": [
    "name.replace('s','k')"
   ]
  },
  {
   "cell_type": "markdown",
   "metadata": {},
   "source": [
    "**Split a string using a delimiter character**"
   ]
  },
  {
   "cell_type": "code",
   "execution_count": null,
   "metadata": {
    "collapsed": true
   },
   "outputs": [],
   "source": [
    "text = 'I am going to the University of Cincinnati'\n",
    "name = \"Dr Brand\""
   ]
  },
  {
   "cell_type": "code",
   "execution_count": null,
   "metadata": {
    "collapsed": true
   },
   "outputs": [],
   "source": [
    "text.split(' ')"
   ]
  },
  {
   "cell_type": "code",
   "execution_count": null,
   "metadata": {
    "collapsed": true
   },
   "outputs": [],
   "source": [
    "name.split('-')"
   ]
  },
  {
   "cell_type": "markdown",
   "metadata": {},
   "source": [
    "### String Concatenation\n",
    "**Combining of strings is done by using the (+) operator between them**"
   ]
  },
  {
   "cell_type": "code",
   "execution_count": null,
   "metadata": {},
   "outputs": [],
   "source": [
    "string1 = 'My name is '\n",
    "name = 'John'\n",
    "string2 = string1 + name\n",
    "print(string2)"
   ]
  },
  {
   "cell_type": "markdown",
   "metadata": {},
   "source": [
    "**In order to combine a string with a non-string variable, use str( ) method to convert non-strings to strings**\n",
    "<br>\n",
    "You cannot concatenate a string with a non-string type without converting the non-string type to a string.\n",
    "<br>\n",
    "No conversion will result in error similar tp the error below\n",
    "\n",
    "TypeError                                 Traceback (most recent call last)\n",
    "<br>\n",
    "< ipython-input-77-887da7680fd9 > in < module >( )\n",
    "<br>\n",
    "----> 1 string1 + 9\n",
    "<br>\n",
    "TypeError: must be str, not int"
   ]
  },
  
