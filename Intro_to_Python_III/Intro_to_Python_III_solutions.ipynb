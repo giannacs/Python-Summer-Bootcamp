{
 "cells": [
  {
   "cell_type": "markdown",
   "metadata": {},
   "source": [
    "# Exercise 1\n",
    "### Creating a Module with a Function and Class definitions\n",
    "1. Create a module with the following entities\n",
    "   * A function called **'demographics'** to asks a user for their firts name, last name and year of birth and returns these values in that order.<br>\n",
    "     NB: Remember the **input( )** or **raw_iput( )** functions for Python 3 and 2 respectively.\n",
    "   * A fuction called **'uc_6_2'** with two string inputs (two names of a person with the firt name as first input). This fuction returns the UC 6+2\n",
    "   * A class called **'Student'** with the following attributes\n",
    "     * Takes three string input(First name, last name, and year of birth in that order) to create an object of this class\n",
    "     * A **'student_count'** CLASS VARIABLE to track the count of every student object created so to use them in creating a student number for each student\n",
    "     * A method called **'student_number'** to return the student number. A student number is the **student's yeaar of birth** + **student's count**\n",
    "     * A method called **'student_id'** calls the **'uc_6_2'** function to return the student ID\n",
    "   * Save the module as **'uc_student.py'**\n",
    "<br><br>  \n",
    "2. Imports the uc_student.py module into your session\n",
    "   * Create 3 student objects using the following steps\n",
    "     * For each student call the **'demographics( )'** function as save the output in a variable\n",
    "     * Use the information provided to create a student object\n",
    "   * Print the student number and student id of each student object\n",
    "   * Print the total nubmber of students\n",
    "   \n",
    "### Solving Part 2 of Exercise\n",
    "**Import the ' uc_student ' module into your session with an alias**"
   ]
  },
  {
   "cell_type": "code",
   "execution_count": 5,
   "metadata": {},
   "outputs": [],
   "source": [
    "import uc_student as u"
   ]
  },
  {
   "cell_type": "markdown",
   "metadata": {},
   "source": [
    "**Call the ' demographics ' function to take inputs for first student and store in a variable**"
   ]
  },
  {
   "cell_type": "code",
   "execution_count": 6,
   "metadata": {},
   "outputs": [
    {
     "name": "stdout",
     "output_type": "stream",
     "text": [
      "What is your First Name: Dag\n",
      "What is your Last Name: Heward-Mills\n",
      "What is your Year of Birth: 1963\n"
     ]
    }
   ],
   "source": [
    "demo = u.demographics()"
   ]
  },
  {
   "cell_type": "markdown",
   "metadata": {},
   "source": [
    "**Call the ' Student ' class create first student object using the list saved in the command above and sore in a variable**"
   ]
  },
  {
   "cell_type": "code",
   "execution_count": 7,
   "metadata": {},
   "outputs": [],
   "source": [
    "s1 = u.Student(demo[0],demo[1],demo[2])"
   ]
  },
  {
   "cell_type": "markdown",
   "metadata": {},
   "source": [
    "**Call the ' demographics ' function to take inputs for second student and store in a variable**"
   ]
  },
  {
   "cell_type": "code",
   "execution_count": 8,
   "metadata": {},
   "outputs": [
    {
     "name": "stdout",
     "output_type": "stream",
     "text": [
      "What is your First Name: Kwame\n",
      "What is your Last Name: Edjah\n",
      "What is your Year of Birth: 1991\n"
     ]
    }
   ],
   "source": [
    "demo = u.demographics()"
   ]
  },
  {
   "cell_type": "markdown",
   "metadata": {},
   "source": [
    "**Call the ' Student ' class create second student object using the list saved in the command above and sore in a variable**"
   ]
  },
  {
   "cell_type": "code",
   "execution_count": 9,
   "metadata": {},
   "outputs": [],
   "source": [
    "s2 = u.Student(demo[0],demo[1],demo[2])"
   ]
  },
  {
   "cell_type": "markdown",
   "metadata": {},
   "source": [
    "**Call the ' demographics ' function to take inputs for third student and store in a variable**"
   ]
  },
  {
   "cell_type": "code",
   "execution_count": 10,
   "metadata": {},
   "outputs": [
    {
     "name": "stdout",
     "output_type": "stream",
     "text": [
      "What is your First Name: Akosua\n",
      "What is your Last Name: Sunu\n",
      "What is your Year of Birth: 1990\n"
     ]
    }
   ],
   "source": [
    "demo = u.demographics()"
   ]
  },
  {
   "cell_type": "markdown",
   "metadata": {},
   "source": [
    "**Call the ' Student ' class create third student object using the list saved in the command above and sore in a variable**"
   ]
  },
  {
   "cell_type": "code",
   "execution_count": 11,
   "metadata": {},
   "outputs": [],
   "source": [
    "s3 = u.Student(demo[0],demo[1],demo[2])"
   ]
  },
  {
   "cell_type": "markdown",
   "metadata": {},
   "source": [
    "**Print the student number and student id of each student object**\n",
    "\n",
    "**Hint:** Replace the **?** in below command with appropriate code.\n",
    "<br>\n",
    "Do this for all three student objects in the cell below\n",
    "<br>\n",
    "**print ( 'Number of First Student : ', ? , ' ; ID of First Student : ', ? )**"
   ]
  },
  {
   "cell_type": "code",
   "execution_count": 12,
   "metadata": {},
   "outputs": [
    {
     "name": "stdout",
     "output_type": "stream",
     "text": [
      "Number of First Student :  19631  ; ID of First Student :  hewarddg\n",
      "Number of Second Student :  19912  ; ID of Second Student :  edjahkwe\n",
      "Number of Third Student :  19903  ; ID of Third Student :  sunuakoa\n"
     ]
    }
   ],
   "source": [
    "print('Number of First Student : ', s1.student_number(), ' ; ID of First Student : ', s1.student_id())\n",
    "\n",
    "print('Number of Second Student : ', s2.student_number(), ' ; ID of Second Student : ', s2.student_id())\n",
    "\n",
    "print('Number of Third Student : ', s3.student_number(), ' ; ID of Third Student : ', s3.student_id())"
   ]
  }
 ],
 "metadata": {
  "kernelspec": {
   "display_name": "Python 3",
   "language": "python",
   "name": "python3"
  },
  "language_info": {
   "codemirror_mode": {
    "name": "ipython",
    "version": 3
   },
   "file_extension": ".py",
   "mimetype": "text/x-python",
   "name": "python",
   "nbconvert_exporter": "python",
   "pygments_lexer": "ipython3",
   "version": "3.6.5"
  }
 },
 "nbformat": 4,
 "nbformat_minor": 2
}
