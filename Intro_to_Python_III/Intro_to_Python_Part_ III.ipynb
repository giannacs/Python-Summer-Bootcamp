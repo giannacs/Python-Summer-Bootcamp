{
 "cells": [
  {
   "cell_type": "markdown",
   "metadata": {},
   "source": [
    "# Objectives\n",
    "* **IPython, Anaconda distribution & Jupyter Notebook**<br><br>\n",
    "\n",
    "* **Hands-on**\n",
    " * Classes/Objects\n",
    " * Modules & Imports\n",
    " * Packages & Libraries\n",
    " * File I/O"
   ]
  },
  {
   "cell_type": "markdown",
   "metadata": {},
   "source": []
  },
  {
   "cell_type": "markdown",
   "metadata": {},
   "source": [
    "# Classes and Objects\n",
    "### Some OOP Terminologies\n",
    "Python supports object-oriented programming (OOP). Some OOP terminologies include;\n",
    "#### Class\n",
    "* Prototype for objects that defines a set of attributes that characterize any object of the class.\n",
    "* There are two types of classes. **System Defined** and **User Defined** classes\n",
    "* Example of a system defined class is the **'str'** class for string literals\n",
    "\n",
    "#### Object\n",
    "* Unique instance of a class\n",
    "* It comprises both data members and methods as defined by its class"
   ]
  },
  {
   "cell_type": "code",
   "execution_count": null,
   "metadata": {},
   "outputs": [],
   "source": [
    "var = 'This is a string object'"
   ]
  },
  {
   "cell_type": "markdown",
   "metadata": {},
   "source": [
    "* **'var'** is an object of String class\n",
    "\n",
    "#### Instantiation\n",
    "* The creation of an object (instance of a class)\n",
    "\n",
    "#### Attributes\n",
    "* Data members and methods, accessed via dot notation\n",
    "\n",
    "#### Data member\n",
    "* Holds data associated with a class and its objects\n",
    "* May be a class variable or instance variable\n",
    "\n",
    "#### Class variable\n",
    "* Shared with all instances of a class\n",
    "* Defined within a class but outside any of the class's methods\n",
    "\n",
    "####  Instance variable\n",
    "* Defined inside a method and belongs only to the current instance/object\n",
    "\n",
    "#### Method\n",
    "* A special kind of function that is defined in a class definition"
   ]
  },
  {
   "cell_type": "code",
   "execution_count": null,
   "metadata": {},
   "outputs": [],
   "source": [
    "var.upper()"
   ]
  },
  {
   "cell_type": "markdown",
   "metadata": {},
   "source": [
    "### Defining a User-defined class\n",
    "* To create a class, it begins with keyword **'class'** followed by the class name\n",
    "\n",
    "  **class ClassName :**\n",
    "\n",
    "  $\\;\\;\\;\\;\\;\\;$** class variables ** # shared among all instances of a this class\n",
    "\n",
    "  $\\;\\;\\;\\;\\;\\;$**return expression**\n",
    "\n",
    "  $\\;\\;\\;\\;\\;\\;$**def __init__(self,class_parameter[s]) :**\n",
    "\n",
    "  $\\;\\;\\;\\;\\;\\;\\;\\;\\;\\;\\;\\;$**self.instance_variables[s] = class_parameter[s] **\n",
    "\n",
    "  $\\;\\;\\;\\;\\;\\;\\;\\;\\;\\;\\;\\;$**init method body**\n",
    "\n",
    "  $\\;\\;\\;\\;\\;\\;$**class body**\n",
    "  \n",
    "* By convention class names begin with an initial caps\n",
    "* Includes a compulsory intial method **'\\__init__( )'**<br> \n",
    "  (**NB**: **'\\__'** is double underscore)\n",
    "  Python calls this method when you create a new instance of this class\n",
    "* **'\\__init__( )'** can include optional parameters that might be required at initialization of the class\n",
    "* Class body has statements that define attributes (data and methods)\n",
    "* All other class methods are normal functions except the **first compulsory** argument to each method is **'self'**\n",
    "* See example below"
   ]
  },
  {
   "cell_type": "code",
   "execution_count": null,
   "metadata": {},
   "outputs": [],
   "source": [
    "class Employee:\n",
    "    # A class variable\n",
    "    empCount = 0\n",
    "    # Compulsory initial method. Notice the compulsory self arguments\n",
    "    def __init__(self, name, salary):\n",
    "        self.name = name\n",
    "        self.salary = salary\n",
    "        Employee.empCount += 1 # Notice how class variables are referenced\n",
    "    # First method. Notice the compulsory self arguments\n",
    "    def displayCount(self):\n",
    "        print (\"This is Employee # %d\" % Employee.empCount)\n",
    "    # Second method. Notice the compulsory self arguments\n",
    "    def displayEmployee(self, increment):\n",
    "        print (\"Name : \", self.name, \", Salary: \", str(self.salary), \", Next year Salary: \" + str(self.salary+increment))"
   ]
  },
  {
   "cell_type": "markdown",
   "metadata": {},
   "source": [
    "**Creating an Object of class Employee**"
   ]
  },
  {
   "cell_type": "code",
   "execution_count": null,
   "metadata": {},
   "outputs": [],
   "source": [
    "emp1 = Employee(\"Zara\", 2000)"
   ]
  },
  {
   "cell_type": "markdown",
   "metadata": {},
   "source": [
    "**Calling a method**"
   ]
  },
  {
   "cell_type": "code",
   "execution_count": null,
   "metadata": {},
   "outputs": [],
   "source": [
    "emp1.displayCount()"
   ]
  },
  {
   "cell_type": "markdown",
   "metadata": {},
   "source": [
    "**Creating another object**"
   ]
  },
  {
   "cell_type": "code",
   "execution_count": null,
   "metadata": {},
   "outputs": [],
   "source": [
    "emp2 = Employee(\"John\", 5000)"
   ]
  },
  {
   "cell_type": "markdown",
   "metadata": {},
   "source": [
    "**Calling another method**"
   ]
  },
  {
   "cell_type": "code",
   "execution_count": null,
   "metadata": {},
   "outputs": [],
   "source": [
    "emp2.displayEmployee(200)"
   ]
  },
  {
   "cell_type": "markdown",
   "metadata": {},
   "source": [
    "**A class variable**"
   ]
  },
  {
   "cell_type": "code",
   "execution_count": null,
   "metadata": {},
   "outputs": [],
   "source": [
    "Employee.empCount"
   ]
  },
  {
   "cell_type": "markdown",
   "metadata": {},
   "source": [
    "**An instance variable**"
   ]
  },
  {
   "cell_type": "code",
   "execution_count": null,
   "metadata": {},
   "outputs": [],
   "source": [
    "emp1.name"
   ]
  },
  {
   "cell_type": "code",
   "execution_count": null,
   "metadata": {},
   "outputs": [],
   "source": [
    "print(\"Total number of Employees is %d\" % Employee.empCount)\n",
    "print(\"Name of second employee is\", emp2.name)"
   ]
  },
  {
   "cell_type": "markdown",
   "metadata": {},
   "source": [
    "# Modules and imports\n",
    "* A module is a file that contains definitions - including functions, variables and classes - that you can use once it is imported\n",
    "* A module can also include runnable code\n",
    "* Two types of modules\n",
    " * **System-defined** - Built-in modules like **'random'** located in **'random.py'** file\n",
    " * **User-defined** - Put all the related codes and definitions in a single file and save as **'.py'**\n",
    "\n",
    "### Creating a User-defined Module\n",
    "To create a module called **'support'**\n",
    "* Open an empty script\n",
    "* Write the code and definitions. Use example below\n",
    "  \n",
    "  **pressure = 103.9**\n",
    "  \n",
    "  **def adding(x , y):**\n",
    "  \n",
    "  $\\;\\;\\;\\;\\;\\;$**return x + y**\n",
    "  \n",
    "  **def subtr(x , y):**\n",
    "  \n",
    "  $\\;\\;\\;\\;\\;\\;$**return x - y**\n",
    "  \n",
    "  \n",
    "* Save script as **'support.py'**\n",
    "\n",
    "### Importing Modules\n",
    "Use **'import'** command to load a library into a program's memory\n",
    "\n",
    "#### Generic import\n",
    "Import only whole module(s)\n",
    "\n",
    "*Syntax*:\n",
    "<br>\n",
    "**import module_1 ,module_2 ,...module_N **\n",
    "\n",
    "*Usage*:"
   ]
  },
  {
   "cell_type": "code",
   "execution_count": null,
   "metadata": {},
   "outputs": [],
   "source": [
    "import support\n",
    "import math, random\n",
    "print(support.pressure)\n",
    "v = support.adding(2,3)\n",
    "print(v)"
   ]
  },
  {
   "cell_type": "markdown",
   "metadata": {},
   "source": [
    "#### Generic import with alias\n",
    "*Syntax*:\n",
    "<br>\n",
    "**import module_1 as m_1, module_2 as m_2, ...module_N as m_N **\n",
    "\n",
    "*Usage*:"
   ]
  },
  {
   "cell_type": "code",
   "execution_count": null,
   "metadata": {},
   "outputs": [],
   "source": [
    "import math as m, support as s\n",
    "v = s.adding(2,3)\n",
    "print(v)"
   ]
  },
  {
   "cell_type": "markdown",
   "metadata": {},
   "source": [
    "#### Specific items import \n",
    "Load only specific items from module\n",
    "\n",
    "*Syntax*:\n",
    "<br>\n",
    "**from module_name import item_1, item_2, ...item_N**\n",
    "\n",
    "*Usage*:"
   ]
  },
  {
   "cell_type": "code",
   "execution_count": null,
   "metadata": {},
   "outputs": [],
   "source": [
    "from support import adding\n",
    "v = adding(2,3)\n",
    "print(v)"
   ]
  },
  {
   "cell_type": "markdown",
   "metadata": {},
   "source": [
    "#### Universal import\n",
    "Import all items in a module individually\n",
    "\n",
    "*Syntax*:\n",
    "<br>\n",
    "**from module_name import ***\n",
    "\n",
    "*Usage*:"
   ]
  },
  {
   "cell_type": "code",
   "execution_count": null,
   "metadata": {},
   "outputs": [],
   "source": [
    "from support import *\n",
    "v = adding(2,3)\n",
    "u = subtr(2,3)\n",
    "print(u)\n",
    "print(v)"
   ]
  },
  {
   "cell_type": "markdown",
   "metadata": {},
   "source": [
    "### More on Modules\n",
    "* **dir (module_name)** returns a sorted list of strings with names of items in a module\n",
    "* **help (module_name)** find out more about a module's contents"
   ]
  },
  {
   "cell_type": "code",
   "execution_count": null,
   "metadata": {},
   "outputs": [],
   "source": [
    "import math\n",
    "content = dir(math)"
   ]
  },
  {
   "cell_type": "code",
   "execution_count": null,
   "metadata": {
    "scrolled": true
   },
   "outputs": [],
   "source": [
    "print(content)"
   ]
  },
  {
   "cell_type": "code",
   "execution_count": null,
   "metadata": {},
   "outputs": [],
   "source": [
    "help(math)"
   ]
  },
  {
   "cell_type": "markdown",
   "metadata": {},
   "source": [
    "# Exercise 1\n",
    "### Creating a Module with a Function and Class definitions\n",
    "1. Create a module with the following entities\n",
    "   * A function called **'demographics'** to ask a user for their first name, last name and year of birth and returns these values in that order.<br>\n",
    "     NB: Remember the **input( )** or **raw_iput( )** functions for Python 3 and 2 respectively.\n",
    "   * A function called **'uc_6_2'** with two string inputs (two names of a person with the first name as first input). This function returns the UC 6+2\n",
    "   * A class called **'Student'** with the following attributes\n",
    "     * Takes three string input(First name, last name, and year of birth in that order) to create an object of this class\n",
    "     * A **'student_count'** CLASS VARIABLE to track the count of every student object created so to use them in creating a student number for each student\n",
    "     * A method called **'student_number'** to return the student number. A student number is the **student's year of birth** + **student's count**\n",
    "     * A method called **'student_id'** calls the **'uc_6_2'** function to return the student ID\n",
    "   * Save the module as **'uc_student.py'**\n",
    "<br><br>  \n",
    "2. Imports the uc_student.py module into your session\n",
    "   * Create 3 student objects using the following steps\n",
    "     * For each student call the **'demographics( )'** function as save the output in a variable\n",
    "     * Use the information provided to create a student object\n",
    "   * Print the student number and student id of each student object\n",
    "   * Print the total number of students"
   ]
  },
  {
   "cell_type": "markdown",
   "metadata": {},
   "source": [
    "### Solving Part 2 of Exercise\n",
    "**Import the ' uc_student ' module into your session with an alias**"
   ]
  },
  {
   "cell_type": "code",
   "execution_count": null,
   "metadata": {},
   "outputs": [],
   "source": []
  },
  {
   "cell_type": "markdown",
   "metadata": {},
   "source": [
    "**Call the ' demographics ' function to take inputs for first student and store in a variable**"
   ]
  },
  {
   "cell_type": "code",
   "execution_count": null,
   "metadata": {},
   "outputs": [],
   "source": []
  },
  {
   "cell_type": "markdown",
   "metadata": {},
   "source": [
    "**Call the ' Student ' class create first student object using the list saved in the command above and store in a variable**"
   ]
  },
  {
   "cell_type": "code",
   "execution_count": null,
   "metadata": {},
   "outputs": [],
   "source": []
  },
  {
   "cell_type": "markdown",
   "metadata": {},
   "source": [
    "**Call the ' demographics ' function to take inputs for second student and store in a variable**"
   ]
  },
  {
   "cell_type": "code",
   "execution_count": null,
   "metadata": {},
   "outputs": [],
   "source": []
  },
  {
   "cell_type": "markdown",
   "metadata": {},
   "source": [
    "**Call the ' Student ' class create second student object using the list saved in the command above and store in a variable**"
   ]
  },
  {
   "cell_type": "code",
   "execution_count": null,
   "metadata": {},
   "outputs": [],
   "source": []
  },
  {
   "cell_type": "markdown",
   "metadata": {},
   "source": [
    "**Call the ' demographics ' function to take inputs for third student and store in a variable**"
   ]
  },
  {
   "cell_type": "code",
   "execution_count": null,
   "metadata": {},
   "outputs": [],
   "source": []
  },
  {
   "cell_type": "markdown",
   "metadata": {},
   "source": [
    "**Call the ' Student ' class create third student object using the list saved in the command above and store in a variable**"
   ]
  },
  {
   "cell_type": "code",
   "execution_count": null,
   "metadata": {},
   "outputs": [],
   "source": []
  },
  {
   "cell_type": "markdown",
   "metadata": {},
   "source": [
    "**Print the student number and student id of each student object**\n",
    "\n",
    "**Hint:** Replace the **?** in below command with appropriate code.\n",
    "<br>\n",
    "Do this for all three student objects in the cell below\n",
    "<br>\n",
    "**print ( 'Number of First Student : ', ? , ' ; ID of First Student : ', ? )**"
   ]
  },
  {
   "cell_type": "code",
   "execution_count": null,
   "metadata": {},
   "outputs": [],
   "source": []
  },
  {
   "cell_type": "markdown",
   "metadata": {},
   "source": [
    "# Packages in Python\n",
    "* A hierarchical file directory structure containing modules and subfolders and sub-subfolders as subpackages or sub-subpackages\n",
    "* It helps organize projects files in a single Python application environment\n",
    "* Each folder has a file called **'\\__init__.py'**\n",
    "* You can create your own Package\n",
    "* **'\\__init__.py'** file contains imports statements for modules in the folder and other code to be executed\n",
    "* The Package or folder can be imported using the folder name. Same import rules discussed earlier apply\n",
    "* When a Package is imported, it is initialized by running the **'\\__init__.py'** file\n",
    "* **System-defined** Packages - Already Built-in modules. An example is the **'email'** package for managing email messages\n",
    "* **User-defined** Packages - You can create your own Package. See example"
   ]
  },
  {
   "cell_type": "code",
   "execution_count": null,
   "metadata": {},
   "outputs": [],
   "source": [
    "import MyPackage as m"
   ]
  },
  {
   "cell_type": "code",
   "execution_count": null,
   "metadata": {},
   "outputs": [],
   "source": [
    "m.uc_student.demographics()"
   ]
  },
  {
   "cell_type": "code",
   "execution_count": null,
   "metadata": {},
   "outputs": [],
   "source": [
    "m.uc_6_2('John','Smith')"
   ]
  },
  {
   "cell_type": "markdown",
   "metadata": {},
   "source": [
    "# Libraries\n",
    "* A Library is a collection of modules and packages that can be used by other python programs\n",
    "* The python community use the words **package** and **library** interchangeably\n",
    "\n",
    "### Python Standard Library\n",
    "* Python has a Standard Library with **System-defined** modules and packages\n",
    "* The Python Standard Library is downloaded on local drive when Python is installed\n",
    "* For More info at https://docs.python.org/3/library/\n",
    "\n",
    "### Additional/External Libraries\n",
    "* Many other modules and packages created by the Python community and third-party teams are kept on Libraries outside of the Standard Library\n",
    "* The **Python Package Index (PyPI)** is the official third-party software repository or library for Python\n",
    "* Many definitions created by the Python community and third-party teams are shared on PyPI\n",
    "* More info on PyPI at https://pypi.org/\n",
    "* There are other External Libraries aside PyPI\n",
    "* You may use a package management system like **'pip'** to install a Package from PyPI and other sources\n",
    "* Popular packages not on the Standard Library include **numpy** for multi-dimensional arrays, **matplotlib** for plotting and graphs and **pandas** for data manipulation and analysis. Thes are available on PyPI\n",
    "\n",
    "### Installing external Packages via command line using 'pip'\n",
    "* **'pip'** can install from\n",
    " * PyPI (Python Package Index)\n",
    " * Local directories\n",
    " * Remote source archives\n",
    " * urls with VCS support using url prefixes ( 'git+', 'hg+', 'bzr+', 'svn+' for Git, Mercurial, Subversion and Bazaar respectively)\n",
    "* **'pip'** uses PyPI as the default source for packages and their dependencies\n",
    "* Open Command Prompt for Windows or Terminal for Mac or Linux to install a package via **'pip'** \n",
    "\n",
    "### Note: with anaconda there are more commands to instal packages ( conda )\n",
    "\n",
    " **Syntax for installing from PyPI**:\n",
    " \n",
    " **pip install package-name**\n",
    "\n",
    " **Usage**:\n",
    " \n",
    " **pip install numpy**\n",
    "* More info on installing packages on PyPI and other sources visit using **'pip'** at\n",
    " * https://packaging.python.org/tutorials/installing-packages/\n",
    " * https://pip.pypa.io/en/latest/reference/pip_install/\n",
    " \n",
    "### Pre-requisites to use 'pip' on command line\n",
    "#### Ensure you can run Python and **'pip'** from the command line\n",
    " * Open Command Prompt for Windows or Terminal for Mac or Linux\n",
    " * Type the command<br> \n",
    "   **python --version**<br>\n",
    "   **pip**<br>\n",
    "   **pip --version**\n",
    " * An error indicates that Path Variable in the environment variables is not properly set up for Python and **'pip'**\n",
    "\n",
    "#### Setting the Path Variable for Python and 'pip'\n",
    "***Windows***\n",
    "* *Option 1*<br>\n",
    "  Run the commands below on Command Prompt<br>\n",
    "  **path %path%;C:\\Python27**<br>\n",
    "  **path %path%;C:\\Python27\\Scripts**<br>\n",
    "* *Option 2*\n",
    "  * Open the folder **'C:\\Python27\\Tools\\Scripts'** \n",
    "  * Run the script **'win_add2path.py'** with an IDE\n",
    "\n",
    "***Linux/Mac***<br>\n",
    "Run below commands on Terminal\n",
    "* *csh shell*<br>\n",
    "  **setenv PATH \"\\$PATH:/usr/local/bin/python\"**<br>\n",
    "  **setenv PATH \"\\$PATH:/usr/local/bin/python/Scripts\"**\n",
    "* *bash shell*<br>\n",
    "  **export PATH=\"\\$PATH:/usr/local/bin/python\"**<br>\n",
    "  **export PATH=\"\\$PATH:/usr/local/bin/python/Scripts\"**\n",
    "* *sh or ksh shell*<br>\n",
    "  **PATH=\"\\$PATH:/usr/local/bin/python\"**<br>\n",
    "  **PATH=\"\\$PATH:/usr/local/bin/python/Scripts\"**\n",
    "\n",
    "<br>\n",
    "**More info on setting up Python and pip for command line on**<br>\n",
    "https://packaging.python.org/guides/installing-using-linux-tools/<br>\n",
    "https://www.tutorialspoint.com/python/python_environment.htm\n",
    "\n",
    "### Anaconda Distribution Library\n",
    "* Anaconda Distribution comes along with many packages\n",
    "* Some packages are pre-installed when you install Anaconda.\n",
    "* The library can be accessed using the Anaconda Navigator tool\n",
    "* See all packages in the Anaconda library on the Package list available at https://docs.anaconda.com/anaconda/packages/pkg-docs/\n",
    "* Packages that are not in the Anaconda library may be installed using **'pip'** \n",
    "\n",
    "# File Objects\n",
    "* To read or write to a file you need to create a file object for the file\n",
    "* **open()** is a built-in system function used to create file objects\n",
    "  \n",
    "*Syntax*:<br>\n",
    "**file_object = open(file_path_name [, access_mode] [, buffering] )**\n",
    "  \n",
    "**file_path_name** − String value containing file name or file system path.<br>\n",
    "$\\;\\;\\;\\;\\;\\;\\;\\;\\;\\;\\;\\;\\;\\;\\;\\;\\;\\;\\;\\;\\;\\;\\;$NB: Depending on the access mode, a new file is created if file does not exist.<br>\n",
    "**access_mode** − Optional String value representing mode while opening a file (read, write, append, etc).<br>\n",
    "$\\;\\;\\;\\;\\;\\;\\;\\;\\;\\;\\;\\;\\;\\;\\;\\;\\;\\;\\;\\;\\;$Default value is **'r'** for read.<br>\n",
    "$\\;\\;\\;\\;\\;\\;\\;\\;\\;\\;\\;\\;\\;\\;\\;\\;\\;\\;\\;\\;\\;$A new file is created if file does not exist only for write and append modes.<br>\n",
    "$\\;\\;\\;\\;\\;\\;\\;\\;\\;\\;\\;\\;\\;\\;\\;\\;\\;\\;\\;\\;\\;$A complete list of possible mode values in workshop material and online guide.<br>\n",
    "**buffering** − Optional integer used to set the buffering policy.<br>\n",
    "$\\;\\;\\;\\;\\;\\;\\;\\;\\;\\;\\;\\;\\;\\;\\;$Defaults value is -1.<br>\n",
    "$\\;\\;\\;\\;\\;\\;\\;\\;\\;\\;\\;\\;\\;\\;\\;$0 to switch buffering off (only in binary mode),<br>\n",
    "$\\;\\;\\;\\;\\;\\;\\;\\;\\;\\;\\;\\;\\;\\;\\;$1 to select line buffering (only usable in text mode),<br>\n",
    "$\\;\\;\\;\\;\\;\\;\\;\\;\\;\\;\\;\\;\\;\\;\\;$> 1 to indicate the size in bytes of a fixed-size chunk buffer (only in binary mode),<br>\n",
    "$\\;\\;\\;\\;\\;\\;\\;\\;\\;\\;\\;\\;\\;\\;\\;$< 1 default behavior.\n",
    "  \n",
    "*Usage*:\n",
    "# Always remember to close your files after being done using them!!!!\n",
    "### See below"
   ]
  },
  
