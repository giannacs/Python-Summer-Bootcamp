{
 "cells": [
  {
   "cell_type": "markdown",
   "metadata": {},
   "source": [
    "# Exercise 1\n",
    "#### UC 6+2 program\n",
    "Write a program to generate and print the UC 6+2 ID for a given first & last name.\n",
    "1. Take the user's first name and last name and store them in two different variables.\n",
    "2. If the length of the last name is >=6, take the first 6 letters from the last name & first and last letters from the first name to form the six plus two.\n",
    "3. If the length of the last name is <6, take all of the last name, pick first letters of first name to make up for the length the last name & first and last letters from the remainder of the first name\n",
    "4. Print out the six plus two in lower case"
   ]
  },
  {
   "cell_type": "code",
   "execution_count": 1,
   "metadata": {},
   "outputs": [
    {
     "name": "stdout",
     "output_type": "stream",
     "text": [
      "Give your First Name: Joshua\n",
      "Give your Last Name: Anoint\n",
      "anointja\n"
     ]
    }
   ],
   "source": [
    "# Take input for user's first name and store in a variable\n",
    "first_name = input(\"Give your First Name: \") \n",
    "\n",
    "# Take input for user's last name and store in a variable\n",
    "last_name = input(\"Give your Last Name: \") \n",
    "\n",
    "# Use the appropriate If and else Decision Block with a condition that compares the Length of the Last name to 6\n",
    "# In the If and else Decision Block store the six plus two in a variable\n",
    "# Use the Tips below in your If and else Decision Block\n",
    "if len(last_name)>=6:\n",
    "   sixplus2 = last_name[0:6] + first_name[0] + first_name[-1]\n",
    "else:\n",
    "   sixplus2 = last_name + first_name[0:(6-len(last_name)+1)] + first_name[-1]\n",
    "\n",
    "# Print out the six plus two in lower case\n",
    "print(sixplus2.lower())\n",
    "\n",
    "\n",
    "# Tips (Replace the portions marked with ?)\n",
    "# ********************************************\n",
    "# For length of the last name is >=6, sixplus2 = last_name[0:?] + first_name[0] + first_name[?]\n",
    "# For length of the last name is <6, sixplus2 = last_name + first_name[0:(6-len(?)+1)] + first_name[?]"
   ]
  },
  {
   "cell_type": "markdown",
   "metadata": {},
   "source": [
    "# Exercise 2\n",
    "#### DNA to RNA Transcription\n",
    "The process of converting DNA to RNA<br>\n",
    "G->C<br>\n",
    "C->G<br>\n",
    "A->T<br>\n",
    "T->A<br>\n",
    "Example:<br>\n",
    "**Input:** GCTAGCCTACG<br>\n",
    "**Output:** CGATCGGATGC\n",
    "\n",
    "Write a program that takes a DNA string input from a user and transcripes the string into an RNA string using rules above\n",
    "* Your program should be case insensitive\n",
    "* The program should exit if any other letter aside G,C, A nad T is encountered in the DNA string\n",
    "* Your program should output the RNA string in upper cases"
   ]
  },
  {
   "cell_type": "code",
   "execution_count": 2,
   "metadata": {},
   "outputs": [
    {
     "name": "stdout",
     "output_type": "stream",
     "text": [
      "Give the input DNA Code : cgactaca\n",
      "Done with Translation\n",
      "DNA output:  GCTGATGT\n"
     ]
    }
   ],
   "source": [
    "# Take input for DNA string and store in a variable DNA_string\n",
    "DNA_string = input(\"Give the input DNA Code : \")\n",
    "\n",
    "# Intialize the RNA output as an empty string\n",
    "RNA_string = ''\n",
    "\n",
    "# Use \"for\" loop to traverse the DNA string. Use \"If..elif..else\" sub block to check and concactenate the appropriate letter \n",
    "# to RNA_string.\n",
    "# Use \"else\" block in the \"If..elif..else\" sub block to output an error message and break if a diffrent letter is encountered\n",
    "\n",
    "for i in DNA_string.upper():\n",
    "    # the upper() method is used to make our program case insensitive\n",
    "    if i == 'G':\n",
    "        RNA_string = RNA_string + 'C'\n",
    "    # Continue the \"elif\" blocks of the \"If..elif..else\" block for the other letters\n",
    "    elif i == 'C':\n",
    "        RNA_string = RNA_string + 'G'\n",
    "    elif i == 'A':\n",
    "        RNA_string = RNA_string + 'T'\n",
    "    elif i == 'T':\n",
    "        RNA_string = RNA_string + 'A'\n",
    "    # Complete the \"If..elif..else\" block with \"else\" block for an error message assigned to RNA_string \n",
    "    # break out of the loop    \n",
    "    else: \n",
    "        RNA_string = 'Incorrect DNA string'\n",
    "        break\n",
    "else:\n",
    "    # This else is attached to the for loop\n",
    "    print('Done with Translation')\n",
    "\n",
    "print('DNA output: ', RNA_string)"
   ]
  },
  {
   "cell_type": "markdown",
   "metadata": {},
   "source": [
    "# Exercise 3\n",
    "### Convert the UC 6+2 program to a function\n",
    "Create a funtion to generate and return UC 6+2 ID for a given first & last name.\n",
    "NB: Convert the UC 6+2 program done in Introduction tp Python into a function. You may start afresh if you were not in that workshop\n",
    "\n",
    "1. The inputs should be the first name and last name in that order\n",
    "2. If the length of the last name is >=6, take the first 6 letters from the last name & first and last letters from the first name to form the six plus two.\n",
    "3. If the length of the last name is <6, take all of the last name, pick first letters of first name to make up for the length the last name & first and last letters from the remainder of the first name\n",
    "4. Return the six plus two in lower case"
   ]
  },
  {
   "cell_type": "code",
   "execution_count": 3,
   "metadata": {},
   "outputs": [],
   "source": [
    "def uc_6_2(first_name,last_name):\n",
    "    # Use the appropriate If and else Decision Block with a condition that compares the Length of the Last name\n",
    "    # In the If and else Decision Block store the six plus two in a variable\n",
    "    # Use the Tips below in your If and else Decision Block\n",
    "    if len(last_name) >= 6:\n",
    "        sixplus2 = last_name[0:6] + first_name[0] + first_name[-1]        \n",
    "    # Continue the \"If..elif..else\" block with the appropriate block for the remaining scenario\n",
    "    else:\n",
    "        sixplus2= last_name + first_name[0:(6-len(last_name)+1)] + first_name[-1]\n",
    "    # Return the six plus two in lower case\n",
    "    return(sixplus2.lower())\n",
    "\n",
    "\n",
    "# Tips (Replace the portions marked as with ?)\n",
    "# ********************************************\n",
    "# For length of the last name is >=6, sixplus2 = last_name[0:?] + first_name[0] + first_name[?]\n",
    "# For length of the last name is <6, sixplus2 = last_name + first_name[0:(6-len(?)+1)] + first_name[?]"
   ]
  },
  {
   "cell_type": "code",
   "execution_count": 4,
   "metadata": {},
   "outputs": [
    {
     "data": {
      "text/plain": [
       "'edjahdae'"
      ]
     },
     "execution_count": 4,
     "metadata": {},
     "output_type": "execute_result"
    }
   ],
   "source": [
    "uc_6_2('Daniel Enoch Kwame','Edjah')"
   ]
  },
  {
   "cell_type": "code",
   "execution_count": 5,
   "metadata": {},
   "outputs": [
    {
     "data": {
      "text/plain": [
       "'hewarddg'"
      ]
     },
     "execution_count": 5,
     "metadata": {},
     "output_type": "execute_result"
    }
   ],
   "source": [
    "uc_6_2('Dag','Heward-Mills')"
   ]
  },
  {
   "cell_type": "code",
   "execution_count": 6,
   "metadata": {},
   "outputs": [
    {
     "data": {
      "text/plain": [
       "'sunudela'"
      ]
     },
     "execution_count": 6,
     "metadata": {},
     "output_type": "execute_result"
    }
   ],
   "source": [
    "uc_6_2('Del Akosua','Sunu')"
   ]
  }
 ],
 "metadata": {
  "kernelspec": {
   "display_name": "Python 3",
   "language": "python",
   "name": "python3"
  },
  "language_info": {
   "codemirror_mode": {
    "name": "ipython",
    "version": 3
   },
   "file_extension": ".py",
   "mimetype": "text/x-python",
   "name": "python",
   "nbconvert_exporter": "python",
   "pygments_lexer": "ipython3",
   "version": "3.6.5"
  }
 },
 "nbformat": 4,
 "nbformat_minor": 2
}
