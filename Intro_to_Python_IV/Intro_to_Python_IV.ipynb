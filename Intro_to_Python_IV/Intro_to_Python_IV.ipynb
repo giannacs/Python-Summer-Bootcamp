{
 "cells": [
  {
   "cell_type": "markdown",
   "metadata": {},
   "source": [
    "# Objectives\n",
    "\n",
    "\n",
    "### Data Analysis with Python\n",
    "\n",
    "* **Hands-on working on a data file with Pandas and Numpy**\n",
    "  * Creating a Dataframe object and saving/exporting DataFrames\n",
    "  * Exploring a Dataframe (columns, datatypes, shape etc)\n",
    "  * Unique column selection with Pandas and Numpy\n",
    "  * Dataframe and Series slicing and indexing\n",
    "  * Querying Dataframes\n",
    "  * Running statistics on Dataframes\n",
    "  * Grouping and aggregating Dataframes\n",
    "  * Quick & Easy Plots with Pandas<br><br> \n",
    "\n",
    "* **Future Topics**<br><br>\n",
    "\n",
    "* **Helpful hints & resources**"
   ]
  },
  {
   "cell_type": "markdown",
   "metadata": {},
   "source": [
    "# Our Data\n",
    "We will be using files from the [Portal Project Teaching Database](https://figshare.com/articles/Portal_Project_Teaching_Database/1314459). This section will use the **'surveys.csv'** file, stored as a **'.csv'** and can be downloaded here: https://ndownloader.figshare.com/files/2292172<br>\n",
    "We are studying the species and weight of animals caught in sites in our study area.<br>\n",
    "Each row holds information for a single animal, and the columns represent:\n",
    "\n",
    "| **Column**      | **Description**               |\n",
    "|:----------------|:------------------------------|\n",
    "| record_id       | Unique id for the observation |\n",
    "| month           | month of observation          |\n",
    "| day             | day of observation            |\n",
    "| year            | year of observation           |\n",
    "| plot_id         | ID of a particular site       |\n",
    "| species_id      | 2-letter code for a species   |\n",
    "| sex             | sex of animal (“M”, “F”)      |\n",
    "| hindfoot_length | length of the hindfoot in mm  |\n",
    "| weight          | weight of the animal in grams |\t"
   ]
  },
  {
   "cell_type": "markdown",
   "metadata": {},
   "source": [
    "# What is a Python Dataframe?\n",
    "* 2-dimensional data structure that can store data of different types (including characters, integers, floating point values, factors and more) in a tabular form. Each row holds information for each column.\n",
    "* Similar to a spreadsheet or an SQL table or the **'data.frame'** in R. \n",
    "* Dataframes have indexes starting from 0. \n",
    "* An index refers to the position of an element in the data structure.\n",
    "\n",
    "# What is a Python Series?\n",
    "* A series is a one-dimensional structure like an associative array. \n",
    "* Series have indexes starting from 0.\n",
    "* An index refers to the position of a value in the data structure.\n",
    "\n",
    "|index | value     |\n",
    "|------|-----------|\n",
    "| 0    | -84.5099  |\n",
    "| 1    | -84.48937 |\n",
    "| 2    | -84.4432  |\n",
    "\n",
    "\n",
    "# Pandas in Python (Python Data Analysis Library)\n",
    "* **Python Data Analysis Library** shortened as **pandas** is a third-party package for data manipulation\n",
    "* The **pandas** package is one of the best options for working with tabular data in Python\n",
    "* **pandas** ingest data as Dataframe objects and works with both Dataframes and Series\n",
    "* **pandas** uses sequential indexes by default\n",
    "* **pandas** provides data structures, produces high quality plots with **matplotlib** (a Python package graphing) and integrates nicely with other libraries that use **NumPy** (a Python package for arrays processing).\n",
    "* Operations on **numpy** arrays also work on **pandas** Series \n",
    "\n",
    "**Importing Pandas**"
   ]
  },
  {
   "cell_type": "code",
   "execution_count": null,
   "metadata": {},
   "outputs": [],
   "source": [
    "import pandas as pd"
   ]
  },
  {
   "cell_type": "markdown",
   "metadata": {},
   "source": [
    "### Reading CSV Data Using Pandas - *pd.read_csv( )* function\n",
    "The pandas **'read_csv'** function pulls import from **'.csv'** files into a Dataframe objects\n",
    "\n",
    "*Syntax*:<br>\n",
    "**dataframe_object = pd.read_csv( file_path_name )**\n",
    "\n",
    "*Usage*:"
   ]
  },
  {
   "cell_type": "code",
   "execution_count": null,
   "metadata": {},
   "outputs": [],
   "source": [
    "surveys_df = pd.read_csv(\"data/surveys.csv\")\n",
    "surveys_df"
   ]
  },
  {
   "cell_type": "markdown",
   "metadata": {},
   "source": [
    "The first column is the **'0-based' index** of the DataFrame. It is not an actual column of the DataFrame but used to identify the position of the data.\n",
    "\n",
    "### Dataframe *head( )* and *tail( )* methods\n",
    "The **'head( )'** method displays the first several lines of a dataframe object.\n",
    "The **'tail( )'** method displays the last several lines of a dataframe object.\n",
    "\n",
    "*Syntax*:<br>\n",
    "**data_frame_object_name.head ( [ row_count_limit ] )**<br>\n",
    "**data_frame_object_name.tail ( [ row_count_limit ] )**\n",
    "\n",
    "**# row_count_limit is optional. Default is 5**\n",
    "\n",
    "\n",
    "*Usage*:"
   ]
  },
  {
   "cell_type": "code",
   "execution_count": null,
   "metadata": {},
   "outputs": [],
   "source": [
    "surveys_df.head()"
   ]
  },
  {
   "cell_type": "code",
   "execution_count": null,
   "metadata": {},
   "outputs": [],
   "source": [
    "surveys_df.tail(10)"
   ]
  },
  {
   "cell_type": "markdown",
   "metadata": {},
   "source": [
    "### Writing out Data from Dataframe to CSV using *to_csv( )* method\n",
    "The **'to_csv'** pandas DataFrame method is used to export a DataFrame in CSV format\n",
    "\n",
    "*Syntax*:<br>\n",
    "**data_frame_object_name.to_csv ( csv_file_path_name , [ index ] , [ sep ] , [ na_rep ] , [ mode ] )**\n",
    "\n",
    "*Note*:\n",
    "* **csv_file_path_name** is the file path. If **None** is provided the result is returned as a string. Default is **None**\n",
    "* **index** is boolean value for Write row index/names. Default is **True**. Set this to **False** so that pandas doesn’t include the index number for each line.\n",
    "* **sep** is a string of length 1 for field delimiter for the output file. Default is **' , '**\n",
    "* **na_rep** is a string for missing data representation. Default is **' '**\n",
    "* **mode** is a string for the Python write mode. Default is **'w'**\n",
    "\n",
    "*Usage*:"
   ]
  },
  {
   "cell_type": "code",
   "execution_count": null,
   "metadata": {},
   "outputs": [],
   "source": [
    "surveys_df_head = pd.read_csv(\"data/surveys.csv\").head(30)\n",
    "surveys_df_head.to_csv('data/surveys_head.csv', index=False)"
   ]
  },
  {
   "attachments": {
    "image.png": {
     "image/png": "[encoded data removed]"
    }
   },
   "cell_type": "markdown",
   "metadata": {},
   "source": [
    "<h5><center>Helpful Tips!</center></h5>\n",
    "\n",
    "![image.png](attachment:image.png)\n",
    "The **' to_excel '** pandas DataFrame method is used to export a DataFrame to an **Excel .xlsx** file"
   ]
  },
  {
   "cell_type": "markdown",
   "metadata": {},
   "source": [
    "### Dataframe '*dtypes*' data attribute\n",
    "Shows the the data types of the values in the columns.\n",
    "\n",
    "*Syntax*:<br>\n",
    "**data_frame_object_name.dtypes**\n",
    "\n",
    "*Usage*:"
   ]
  },
  {
   "cell_type": "code",
   "execution_count": null,
   "metadata": {},
   "outputs": [],
   "source": [
    "surveys_df.dtypes"
   ]
  },
  {
   "cell_type": "markdown",
   "metadata": {},
   "source": [
    "### Dataframe '*columns*' data attribute\n",
    "Shows an index list of all the column names in the DataFrame.\n",
    "\n",
    "*Syntax*:<br>\n",
    "**data_frame_object_name.columns**\n",
    "\n",
    "*Usage*:"
   ]
  },
  {
   "cell_type": "code",
   "execution_count": null,
   "metadata": {},
   "outputs": [],
   "source": [
    "surveys_df.columns"
   ]
  },
  {
   "cell_type": "code",
   "execution_count": null,
   "metadata": {},
   "outputs": [],
   "source": [
    "surveys_df.columns[0:4]"
   ]
  },
  {
   "cell_type": "markdown",
   "metadata": {},
   "source": [
    "### Dataframe '*shape*' data attribute\n",
    "Outputs a tuple of the row by column count of the DataFrame.\n",
    "\n",
    "*Syntax*:<br>\n",
    "**data_frame_object_name.shape**\n",
    "\n",
    "*Usage*:"
   ]
  },
  {
   "cell_type": "code",
   "execution_count": null,
   "metadata": {},
   "outputs": [],
   "source": [
    "surveys_df.shape"
   ]
  },
  {
   "cell_type": "markdown",
   "metadata": {
    "collapsed": true
   },
   "source": [
    "### Selecting data using Column Names\n",
    "* DataFrame objects are treated like dictionaries using column heads as keys\n",
    "* We use square brackets **[ ]** to select column data and for indexing<br>\n",
    "\n",
    "*Syntax*:<br>\n",
    "**data_frame_object_name [ 'column_name' ]**\n",
    "\n",
    "*Usage*:"
   ]
  },
  {
   "cell_type": "code",
   "execution_count": null,
   "metadata": {},
   "outputs": [],
   "source": [
    "surveys_df['record_id']"
   ]
  },
  {
   "cell_type": "markdown",
   "metadata": {},
   "source": [
    "* You may selct more than one column at a time by making a list of the column names<br>\n",
    "\n",
    "*Syntax*:<br>\n",
    "**data_frame_object_name [ [ 'column_name_1' , 'column_name_2' ] ]**\n",
    "\n",
    "*Usage*:"
   ]
  },
  {
   "cell_type": "code",
   "execution_count": null,
   "metadata": {},
   "outputs": [],
   "source": [
    "surveys_df[['month', 'day']]"
   ]
  },
  {
   "cell_type": "markdown",
   "metadata": {},
   "source": [
    "* You may select a column data also by using the column name as an 'attribute'<br>\n",
    "\n",
    "*Syntax*:<br>\n",
    "**data_frame_object_name.column_name**\n",
    "\n",
    "*Usage*:"
   ]
  },
  {
   "cell_type": "code",
   "execution_count": null,
   "metadata": {},
   "outputs": [],
   "source": [
    "surveys_df.record_id"
   ]
  },
  {
   "cell_type": "markdown",
   "metadata": {},
   "source": [
    "### Selecting Unique values from a column \n",
    "#### Using pandas *'unique'* function\n",
    "The **pandas.unique()** function tells us all of the unique values in a column\n",
    "\n",
    "*Syntax*:<br>\n",
    "**pd.unique ( data_frame_object_name [ 'column_name' ] )**<br>\n",
    "or<br>\n",
    "**pd.unique ( data_frame_object_name.column_name )**\n",
    "\n",
    "*Usage*:"
   ]
  },
  {
   "cell_type": "code",
   "execution_count": null,
   "metadata": {},
   "outputs": [],
   "source": [
    "pd.unique(surveys_df['species_id'])"
   ]
  },
  {
   "cell_type": "code",
   "execution_count": null,
   "metadata": {
    "scrolled": true
   },
   "outputs": [],
   "source": [
    "pd.unique(surveys_df.species_id)"
   ]
  },
  {
   "cell_type": "markdown",
   "metadata": {},
   "source": [
    "#### Using pandas Data series *'unique( )'* method\n",
    "Pandas Data series objects have a **unique( )** method for the same purpose of selecting the unique values in a column\n",
    "\n",
    "*Syntax*:<br>\n",
    "**data_series_object_name.unique ( )**<br>\n",
    "or<br>\n",
    "**data_frame_object_name [ 'column_name' ].unique ( )**<br>"
   ]
  },
  {
   "cell_type": "code",
   "execution_count": null,
   "metadata": {},
   "outputs": [],
   "source": [
    "surveys_df['species_id'].unique()"
   ]
  },
  {
   "cell_type": "markdown",
   "metadata": {},
   "source": [
    "#### Alternatively using numpy *'unique'* function for selecting Unique values from a column\n",
    "Many functions including the unique selection can be done with the Numpy package.<br>\n",
    "The **numpy.unique()** function can be used to select the unique values in a one dimensional series or column\n",
    "\n",
    "*Syntax*:<br>\n",
    "**import numpy as np**<br><br>\n",
    "**np.unique ( data_series_object )**<br>\n",
    "or<br>\n",
    "**np.unique ( array_like_object, [ axis ] )**<br>\n",
    "or<br>\n",
    "**np.unique ( data_frame_object_name.column_name )**<br>\n",
    "or<br>\n",
    "**np.unique ( data_frame_object_name [ 'column_name' ] )**\n",
    "\n",
    "*Usage*:"
   ]
  },
  {
   "cell_type": "code",
   "execution_count": null,
   "metadata": {},
   "outputs": [],
   "source": [
    "import numpy as np\n",
    "# The pandas DataFrame object method,  dropna() is used to remove NaN values \n",
    "np.unique(surveys_df['species_id'].dropna())"
   ]
  },
  {
   "attachments": {
    "image.png": {
     "image/png": "[encoded data removed]"
    }
   },
   "cell_type": "markdown",
   "metadata": {},
   "source": [
    "<h5><center>Helpful Tips!</center></h5>\n",
    "\n",
    "![image.png](attachment:image.png)\n",
    "**Numpy is another third-party scientific compution package for N-dimensional array object processing.**"
   ]
  },
  {
   "cell_type": "markdown",
   "metadata": {},
   "source": [
    "### Extracting data Subsets by Indexing and Slicing\n",
    "#### Slicing and subsetting rows"
   ]
  },
  {
   "cell_type": "code",
   "execution_count": null,
   "metadata": {},
   "outputs": [],
   "source": [
    "surveys_df[0:5]"
   ]
  },
  {
   "cell_type": "code",
   "execution_count": null,
   "metadata": {},
   "outputs": [],
   "source": [
    "surveys_df[3:7]"
   ]
  },
  {
   "cell_type": "code",
   "execution_count": null,
   "metadata": {},
   "outputs": [],
   "source": [
    "surveys_df[5:]"
   ]
  },
  {
   "cell_type": "code",
   "execution_count": null,
   "metadata": {},
   "outputs": [],
   "source": [
    "surveys_df[:5]"
   ]
  },
  {
   "cell_type": "code",
   "execution_count": null,
   "metadata": {},
   "outputs": [],
   "source": [
    "surveys_df[-1:]"
   ]
  },
  {
   "cell_type": "code",
   "execution_count": null,
   "metadata": {},
   "outputs": [],
   "source": [
    "surveys_df[-3:]"
   ]
  },
  {
   "cell_type": "code",
   "execution_count": null,
   "metadata": {},
   "outputs": [],
   "source": [
    "surveys_df[-3:-1]"
   ]
  },
  {
   "cell_type": "markdown",
   "metadata": {},
   "source": [
    "#### Selecting and slicing data from columns"
   ]
  },
  {
   "cell_type": "code",
   "execution_count": null,
   "metadata": {},
   "outputs": [],
   "source": [
    "surveys_df['record_id']"
   ]
  },
  {
   "cell_type": "code",
   "execution_count": null,
   "metadata": {},
   "outputs": [],
   "source": [
    "surveys_df['record_id'][0]"
   ]
  },
  {
   "cell_type": "code",
   "execution_count": null,
   "metadata": {},
   "outputs": [],
   "source": [
    "surveys_df.record_id[0]"
   ]
  },
  {
   "cell_type": "code",
   "execution_count": null,
   "metadata": {},
   "outputs": [],
   "source": [
    "surveys_df['record_id'][0:4]"
   ]
  },
  {
   "cell_type": "code",
   "execution_count": null,
   "metadata": {},
   "outputs": [],
   "source": [
    "surveys_df[['record_id','plot_id']][0:5]"
   ]
  },
  {
   "cell_type": "markdown",
   "metadata": {},
   "source": [
    "#### Slicing Subsets of Rows and Columns\n",
    "We can select a specific row and a column value (a specific data element) or ranges of the data in both the row and column directions using either the **'iloc'** data attribute with integer-based indexing or the **'loc'** data attribute with integers for rows and the column labels.\n",
    "\n",
    "\n",
    "##### iloc \n",
    "* Integer based indexing in the row and column directions\n",
    "* Indexing follows the same **0-based** indexing and slicing concepts used earlier\n",
    "\n",
    "*Syntax*:<br>\n",
    "**# for a specific data element**\n",
    "\n",
    "**data_frame_object_name.iloc [ row_index, column_index ]**\n",
    "\n",
    "**# Remember that Python indexing begins at 0. So, the index location [2, 6] selects the element that is 3 rows down and 7 columns of the DataFrame.**\n",
    "\n",
    "*Usage*:"
   ]
  },
  {
   "cell_type": "code",
   "execution_count": null,
   "metadata": {},
   "outputs": [],
   "source": [
    "surveys_df.iloc[2, 6]"
   ]
  },
  {
   "cell_type": "code",
   "execution_count": null,
   "metadata": {},
   "outputs": [],
   "source": [
    "surveys_df.head(5)"
   ]
  },
  {
   "cell_type": "markdown",
   "metadata": {},
   "source": [
    "*Syntax*:<br>\n",
    "**# for a range of data element**\n",
    "\n",
    "**data_frame_object_name.iloc [ starting_row_index : ending_row_index + 1 , starting_column_index : ending_column_index + 1 ]**\n",
    "\n",
    "**# Remember that in Python slicing, ending indices are not included in selection. So, the index location [1:4, 0:5] selects the  element in row 2 to 4 (index 1 to 3) and in columns 1 to 5 (index 0 to 4) of the DataFrame.**\n",
    "\n",
    "*Usage*:"
   ]
  },
  {
   "cell_type": "code",
   "execution_count": null,
   "metadata": {},
   "outputs": [],
   "source": [
    "surveys_df.iloc[1:4, 0:5]"
   ]
  },
  {
   "cell_type": "code",
   "execution_count": null,
   "metadata": {},
   "outputs": [],
   "source": [
    "surveys_df.iloc[3:5, 5:8]"
   ]
  },
  {
   "cell_type": "code",
   "execution_count": null,
   "metadata": {},
   "outputs": [],
   "source": [
    "surveys_df.iloc[3:5, :]"
   ]
  },
  {
   "cell_type": "code",
   "execution_count": null,
   "metadata": {},
   "outputs": [],
   "source": [
    "surveys_df.iloc[:, 5:8].head()"
   ]
  },
  {
   "cell_type": "markdown",
   "metadata": {},
   "source": [
    "*Syntax*:<br>\n",
    "**# selection by specifying a list of row indexes and list of column indexes**\n",
    "\n",
    "**data_frame_object_name.iloc [ [ list of row indexes ] , [ list of column indexes ] ]**\n",
    "\n",
    "*Usage*:"
   ]
  },
  {
   "cell_type": "code",
   "execution_count": null,
   "metadata": {},
   "outputs": [],
   "source": [
    "surveys_df.iloc[[2,5,23,1], [8,5,6,7]]"
   ]
  },
  {
   "cell_type": "code",
   "execution_count": null,
   "metadata": {},
   "outputs": [],
   "source": [
    "surveys_df.iloc[[2,5,23], :]"
   ]
  },
  {
   "cell_type": "code",
   "execution_count": null,
   "metadata": {},
   "outputs": [],
   "source": [
    "surveys_df.iloc[[2,5,23], 5:8]"
   ]
  },
  {
   "cell_type": "markdown",
   "metadata": {},
   "source": [
    "##### loc \n",
    "* Label based indexing.\n",
    "* Rows use Integer labels. When integers are used, they are interpreted as a label and not indexes.\n",
    "* Columns use a list of strings of the column names.\n",
    "* Indexing follows the same **0-based** indexing and slicing concepts used earlier\n",
    "\n",
    "NB: The integer row labels in **'loc'** are different from the integer indexes in **'iloc'**. With loc, both the start bound and the stop bound are inclusive.\n",
    "\n",
    "*Syntax*:<br>\n",
    "**# selection by specifying a list of integer row labels and list of column names**\n",
    "\n",
    "**data_frame_object_name.loc [ [list of row indexes ] , [list of column names ] ]**\n",
    "\n",
    "**# selection by specifying starting and ending integer row label and list of column names**\n",
    "\n",
    "**data_frame_object_name.loc [ starting_integer_row label : ending_integer_row label , [list of column names ] ]**\n",
    "\n",
    "\n",
    "*Usage*:"
   ]
  },
  {
   "cell_type": "code",
   "execution_count": null,
   "metadata": {},
   "outputs": [],
   "source": [
    "surveys_df.loc[2:5,['species_id', 'plot_id', 'weight']]"
   ]
  },
  {
   "cell_type": "code",
   "execution_count": null,
   "metadata": {},
   "outputs": [],
   "source": [
    "surveys_df.loc[[2,5,5,7],['species_id', 'plot_id', 'weight']]"
   ]
  },
  {
   "cell_type": "code",
   "execution_count": null,
   "metadata": {},
   "outputs": [],
   "source": [
    "surveys_df.loc[2:5,:]"
   ]
  },
  {
   "cell_type": "code",
   "execution_count": null,
   "metadata": {},
   "outputs": [],
   "source": [
    "surveys_df.loc[:,['species_id', 'plot_id', 'weight']].tail()"
   ]
  },
  {
   "cell_type": "markdown",
   "metadata": {},
   "source": [
    "### Creating Queries on Dataframes\n",
    "Similar to SQL and R, we can select a subset of our data using criteria\n",
    "\n",
    "*Syntax*:<br>\n",
    "**data_frame_object_name [ < condition > ] **<br>\n",
    "\n",
    "**# Conditions must be based on columns names**\n",
    "\n",
    "*Usage*:"
   ]
  },
  {
   "cell_type": "code",
   "execution_count": null,
   "metadata": {},
   "outputs": [],
   "source": [
    "surveys_df[surveys_df['weight'] == 88]"
   ]
  },
  {
   "cell_type": "code",
   "execution_count": null,
   "metadata": {},
   "outputs": [],
   "source": [
    "surveys_df[surveys_df.weight == 88]"
   ]
  },
  {
   "cell_type": "code",
   "execution_count": null,
   "metadata": {},
   "outputs": [],
   "source": [
    "surveys_df[surveys_df.month == surveys_df.plot_id].head()"
   ]
  },
  {
   "attachments": {
    "image.png": {
     "image/png": "[encoded data removed]"
    }
   },
   "cell_type": "markdown",
   "metadata": {},
   "source": [
    "<h5><center>Helpful Tips!</center></h5>\n",
    "\n",
    "![image.png](attachment:image.png)\n",
    "1. **Remember the python Comparison Operators discussed in the Introduction to Python Programming workshop**\n",
    "   * Equals: **==**\n",
    "   * Not equals: **!=**\n",
    "   * Greater than, less than: **>** or **<**\n",
    "   * Greater than or equal to, Less than or equal to: **>=** or **<=**<br><br>\n",
    "2. **Remember the python Logical Operators discussed in the Introduction to Python Programming workshop. This time we use the BITWISE versions**<br>\n",
    "   * Logical AND ( **&** )<br>\n",
    "     *Syntax*:<br> \n",
    "     *Note the parenthesis around each condition*<br>\n",
    "     **data_frame_object_name [ ( < condition 1 > ) & ( < condition 2 > ) ]**<br><br>\n",
    "   * Logical OR ( **|** )<br>\n",
    "     *Syntax*:<br> \n",
    "     *Note the parenthesis around each condition*<br>\n",
    "     **data_frame_object_name [ ( < condition 1 > ) | ( < condition 2 > ) ]**<br><br>\n",
    "   * Logical NOT ( **~** )<br>\n",
    "     **Use the ' ~ ' symbol to return the OPPOSITE of the selection**<br>\n",
    "     *Syntax*:<br>\n",
    "     **data_frame_object_name [ ~ ( < condition > ) ]**<br><br>\n",
    "   \n",
    "4. **You can use the **'isin'** method to query a DataFrame based upon a list of column value**<br>\n",
    "   \n",
    "   *Syntax*:<br>\n",
    "   **data_frame_object_name [ data_frame_object_name[ ' column_name ' ] . isin ( [ list of column values to search ] ) ]**<br>\n",
    "   or<br>\n",
    "   **data_frame_object_name [ data_frame_object_name . column_name . isin ( [ list of column values to search ] ) ]**\n",
    "\n",
    "   *Usage*:"
   ]
  },
  {
   "cell_type": "code",
   "execution_count": null,
   "metadata": {},
   "outputs": [],
   "source": [
    "surveys_df[(surveys_df.weight == 88) & (surveys_df.month == surveys_df.plot_id)]"
   ]
  },
  {
   "cell_type": "code",
   "execution_count": null,
   "metadata": {},
   "outputs": [],
   "source": [
    "surveys_df[surveys_df['weight'].isin([88,0.5,1])]"
   ]
  },
  {
   "cell_type": "code",
   "execution_count": null,
   "metadata": {},
   "outputs": [],
   "source": [
    "surveys_df[~(surveys_df.weight.isin([88,0.5,1]))]"
   ]
  },
  {
   "cell_type": "markdown",
   "metadata": {},
   "source": [
    "# Exercise 1\n",
    "#### Queries\n",
    "Perform the following queries\n",
    "1. Select a subset of rows in the surveys_df DataFrame that contain data from the year 1999 and weights less than or equal to 8.\n",
    "   How many rows did you end up with? What did your neighbor get?\n",
    "2. Display **record_id** and **plot_id** of data that contain data of the years 1999, 2000, 1977 and 1989.\n",
    "3. Write query that selects all rows with sex equal to ‘M’ or ‘F’ in the data. Write two different queries that produce this same result.Write two different queries that do the same thing."
   ]
  },
  {
   "cell_type": "code",
   "execution_count": null,
   "metadata": {},
   "outputs": [],
   "source": []
  },
  {
   "cell_type": "code",
   "execution_count": null,
   "metadata": {},
   "outputs": [],
   "source": []
  },
  {
   "cell_type": "code",
   "execution_count": null,
   "metadata": {},
   "outputs": [],
   "source": []
  },
  {
   "cell_type": "code",
   "execution_count": null,
   "metadata": {},
   "outputs": [],
   "source": []
  },
  {
   "cell_type": "code",
   "execution_count": null,
   "metadata": {},
   "outputs": [],
   "source": []
  },
  {
   "cell_type": "markdown",
   "metadata": {},
   "source": [
    "### Summary statistics methods\n",
    "**Calculate basic statistics for all records in all columns, a group of columns or a single column in a dataframe**"
   ]
  },
  {
   "cell_type": "code",
   "execution_count": null,
   "metadata": {},
   "outputs": [],
   "source": [
    "surveys_df.describe()"
   ]
  },
  {
   "cell_type": "code",
   "execution_count": null,
   "metadata": {},
   "outputs": [],
   "source": [
    "surveys_df[['hindfoot_length','weight']].describe()"
   ]
  },
  {
   "cell_type": "code",
   "execution_count": null,
   "metadata": {},
   "outputs": [],
   "source": [
    "surveys_df['record_id'].describe()"
   ]
  },
  {
   "cell_type": "markdown",
   "metadata": {},
   "source": [
    "**Extract one specific metric**\n",
    "\n",
    "**data_frame_object . min( )<br>\n",
    "data_frame_object . max( )<br>\n",
    "data_frame_object . mean( )<br>\n",
    "data_frame_object . std( )<br>\n",
    "data_frame_object . sum( )<br>\n",
    "data_frame_object . count( )**"
   ]
  },
  {
   "cell_type": "code",
   "execution_count": null,
   "metadata": {},
   "outputs": [],
   "source": [
    "surveys_df.min()"
   ]
  },
  {
   "cell_type": "code",
   "execution_count": null,
   "metadata": {},
   "outputs": [],
   "source": [
    "surveys_df.mean()"
   ]
  },
  {
   "cell_type": "code",
   "execution_count": null,
   "metadata": {},
   "outputs": [],
   "source": [
    "surveys_df[['hindfoot_length','weight']].min()"
   ]
  },
  {
   "cell_type": "code",
   "execution_count": null,
   "metadata": {},
   "outputs": [],
   "source": [
    "surveys_df[['hindfoot_length','weight']].mean()"
   ]
  },
  {
   "cell_type": "code",
   "execution_count": null,
   "metadata": {},
   "outputs": [],
   "source": [
    "surveys_df['record_id'].min()"
   ]
  },
  {
   "cell_type": "code",
   "execution_count": null,
   "metadata": {},
   "outputs": [],
   "source": [
    "surveys_df['record_id'].mean()"
   ]
  },
  {
   "cell_type": "markdown",
   "metadata": {},
   "source": [
    "### Group by\n",
    "**To summarize by one or more column** \n",
    "1. Use the **groupby ( )** pandas dataframe method. This creates a group by object in memory\n",
    "2. Use one on of the following summary statistics methods to get the grouped by data; **describe ( )**,**min ( )**,**max ( )**,**mean ( )**,**std ( )**,**count ( )**\n",
    "3. Use the **agg( )** function to get different statistics on different columns in a group by object"
   ]
  },
  {
   "cell_type": "code",
   "execution_count": null,
   "metadata": {},
   "outputs": [],
   "source": [
    "a=surveys_df.groupby('sex')"
   ]
  },
  {
   "cell_type": "code",
   "execution_count": null,
   "metadata": {},
   "outputs": [],
   "source": [
    "a.describe()"
   ]
  },
  {
   "cell_type": "code",
   "execution_count": null,
   "metadata": {},
   "outputs": [],
   "source": [
    "a.mean()"
   ]
  },
  {
   "cell_type": "code",
   "execution_count": null,
   "metadata": {},
   "outputs": [],
   "source": [
    "surveys_df[['sex','hindfoot_length','weight']].groupby('sex').describe()"
   ]
  },
  {
   "cell_type": "code",
   "execution_count": null,
   "metadata": {},
   "outputs": [],
   "source": [
    "surveys_df[['sex','species_id','hindfoot_length','weight']].groupby(['sex','species_id']).max()"
   ]
  },
  {
   "cell_type": "code",
   "execution_count": null,
   "metadata": {},
   "outputs": [],
   "source": [
    "surveys_df[['sex','species_id','hindfoot_length','weight']].groupby(['sex','species_id'])['hindfoot_length'].max()"
   ]
  },
  {
   "cell_type": "code",
   "execution_count": null,
   "metadata": {},
   "outputs": [],
   "source": [
    "surveys_df[['sex','species_id','hindfoot_length','weight']].groupby(['sex','species_id'])['weight'].sum()"
   ]
  },
  {
   "cell_type": "code",
   "execution_count": null,
   "metadata": {},
   "outputs": [],
   "source": [
    "surveys_df[['sex','species_id','hindfoot_length','weight']].groupby(['sex','species_id']).agg({'hindfoot_length':'max','weight':'sum'})"
   ]
  },
  {
   "cell_type": "markdown",
   "metadata": {},
   "source": [
    "### Quick & Easy Plotting of Data Using Pandas *plot(  )* method\n",
    "We can plot our summary stats using Pandas using the pandas **'plot (  )'** method\n",
    "\n",
    "**Let's see the number of animals per species**"
   ]
  },
  {
   "cell_type": "code",
   "execution_count": null,
   "metadata": {},
   "outputs": [],
   "source": [
    "species_counts = surveys_df.groupby('species_id')['record_id'].count()\n",
    "species_counts"
   ]
  },
  {
   "cell_type": "markdown",
   "metadata": {},
   "source": [
    "***We can make figures appear in-line within the notebook by executing:**<br>\n",
    "\n",
    "**%matplotlib inline**\n",
    "\n",
    "***' matplotlib '* package should already be installed via *' pip '* or you may get an error message**"
   ]
  },
  {
   "cell_type": "code",
   "execution_count": null,
   "metadata": {},
   "outputs": [],
   "source": [
    "# Make sure figures appear inline in Ipython Notebook\n",
    "%matplotlib inline"
   ]
  },
  {
   "cell_type": "code",
   "execution_count": null,
   "metadata": {},
   "outputs": [],
   "source": [
    "species_counts.plot(kind='bar')"
   ]
  },
  {
   "cell_type": "code",
   "execution_count": null,
   "metadata": {},
   "outputs": [],
   "source": [
    "species_counts.plot(kind='pie',title=\"Number of animals per species\")"
   ]
  },
  {
   "cell_type": "markdown",
   "metadata": {},
   "source": [
    "# Exercise 2\n",
    "#### Plot\n",
    "Create plots to answer th following questions\n",
    "1. **Which location has the most animals?**<br>\n",
    "   *Hints*:<br> \n",
    "   Create a plot of the number of animals per site (**plot_id**)<br>\n",
    "   Group by **plot_id** and count the number of **record_id**s<br><br>\n",
    "   \n",
    "2. **Which species has the highest average weights?**<br>\n",
    "   *Hints*:<br>\n",
    "   Create a plot of average weight per species<br>\n",
    "   Group by **species_id** and find the average (**mean**) of the **weight**s"
   ]
  },
  {
   "cell_type": "code",
   "execution_count": null,
   "metadata": {
    "scrolled": true
   },
   "outputs": [],
   "source": []
  },
  {
   "cell_type": "code",
   "execution_count": null,
   "metadata": {},
   "outputs": [],
   "source": []
  },
  {
   "cell_type": "code",
   "execution_count": null,
   "metadata": {},
   "outputs": [],
   "source": []
  },
  {
   "cell_type": "code",
   "execution_count": null,
   "metadata": {},
   "outputs": [],
   "source": []
  },
  {
   "cell_type": "markdown",
   "metadata": {},
   "source": [
    "# Exercise 3\n",
    "#### Data Workflows and Automation\n",
    "1. Create a script/module called **'survey_years.py'** with the following\n",
    "   * Import the **pandas** and **os** modules\n",
    "   * Create a new folder called **'yearly_files'** using the **os.mkdir( ' data/yearly_files ' )** function\n",
    "   * Create a first function called **generate_year_files** that imports **'surveys.csv'** into a dataframe and do the following<br>\n",
    "     a) Read all the unique years<br>\n",
    "     b) For each year between **1990** and **2000**, create new **CSV** files with data from only one particular year.<br> \n",
    "     c) The name of the new files should follow the format **'survey_year.csv'** example **'survey_1977.csv'**<br>\n",
    "     **HINT**: Use the **for loop** and **if block**<br><br>\n",
    "   * Create the second function called **display_year_file_names** which reads names of the files generated and print them out.<br>\n",
    "     **HINTS**:<br> \n",
    "     Use the **os.listdir ( ' path/survey_\\* ' )** function to get the list of all files<br>\n",
    "     Use the **for loop** to loop through and print the file names<br><br>\n",
    "2. Import the **'survey_years.py'** module into your current session and use the two functions to generate the files for the years and print the file names      "
   ]
  },
  {
   "cell_type": "code",
   "execution_count": null,
   "metadata": {},
   "outputs": [],
   "source": []
  },
  {
   "cell_type": "code",
   "execution_count": null,
   "metadata": {},
   "outputs": [],
   "source": []
  },
  {
   "cell_type": "code",
   "execution_count": null,
   "metadata": {},
   "outputs": [],
   "source": []
  },
  {
   "cell_type": "markdown",
   "metadata": {},
   "source": [
    "# Advanced and Future Topics\n",
    "* Concatenation of dataFrames with the pandas concat function\n",
    "* Left, Right, Inner and Outer joins with the pandas merge function\n",
    "* Python for Data Visualization\n",
    "* Error Handling and Exceptions\n",
    "* List Comprehension\n",
    "* Regular Expressions\n",
    "* Database Access\n",
    "* Multithreading\n",
    "\n",
    "# Helpful Resources\n",
    "* CEAS Library Python resources - http://guides.libraries.uc.edu/python\n",
    "* Online links & tutorials\n",
    " * Data Carpentry - https://datacarpentry.org/python-ecology-lesson/\n",
    " * Python documentation - https://www.python.org/doc/\n",
    " * Python Programming wiki book - http://en.wikibooks.org/wiki/Python_Programming\n",
    " * Python tutorials - Udemy, Code academy, etc  "
   ]
  },
  {
   "cell_type": "markdown",
   "metadata": {},
   "source": [
    "# $\\;\\;\\;\\;\\;\\;\\;\\;\\;\\;\\;\\;\\;\\;\\;\\;\\;\\;\\;\\;\\;\\;\\;\\;\\;\\;\\;\\;\\;\\;\\;\\;\\;$Questions ??\n",
    "\n",
    "#  $\\;\\;\\;\\;\\;\\;\\;\\;\\;\\;\\;\\;\\;\\;\\;\\;\\;\\;\\;\\;\\;\\;\\;\\;\\;\\;\\;\\;\\;\\;\\;\\;\\;\\;\\;\\;$Survey\n",
    "### $\\;\\;\\;\\;\\;\\;\\;\\;\\;\\;\\;\\;\\;\\;\\;\\;\\;\\;\\;\\;\\;\\;\\;\\;\\;\\;\\;\\;\\;\\;\\;\\;\\;\\;\\;\\;\\;$[Data Analysis with Python, 25January21](https://forms.office.com/Pages/ResponsePage.aspx?id=bC4i9cZf60iPA3PbGCA7YwSMWPTMv0pLiLwv3kPsmgFUMjc3OFZXVEQ0R1lTWU5ESDdDOEMzOFAwWC4u)\n",
    "\n",
    "\n",
    "\n",
    "\n",
    "\n",
    "\n",
    "# $\\;\\;\\;\\;\\;\\;\\;\\;\\;\\;\\;\\;\\;\\;\\;\\;\\;\\;\\;\\;\\;$ Pick one of the solution manuals\n",
    "$\\;\\;\\;\\;\\;\\;\\;\\;\\;\\;\\;\\;\\;\\;\\;\\;\\;\\;\\;\\;\\;\\;\\;\\;\\;\\;\\;\\;\\;\\;\\;\\;\\;\\;\\;\\;\\;\\;\\;\\;\\;\\;\\;\\;\\;\\;\\;\\;\\;\\;\\;\\;\\;\\;\\;\\;\\;\\;$**Thank you for attending the workshop !!**\n",
    "\n",
    "\n",
    "$\\;\\;\\;\\;\\;\\;\\;\\;\\;\\;\\;\\;\\;\\;\\;\\;\\;\\;\\;\\;\\;\\;\\;\\;\\;\\;\\;\\;\\;\\;\\;\\;\\;\\;\\;\\;\\;\\;\\;\\;\\;\\;\\;\\;\\;\\;$**Your kind suggestions/feedbacks are more than welcome**"
   ]
  }
 ],
 "metadata": {
  "kernelspec": {
   "display_name": "Python 3",
   "language": "python",
   "name": "python3"
  },
  "language_info": {
   "codemirror_mode": {
    "name": "ipython",
    "version": 3
   },
   "file_extension": ".py",
   "mimetype": "text/x-python",
   "name": "python",
   "nbconvert_exporter": "python",
   "pygments_lexer": "ipython3",
   "version": "3.7.1"
  }
 },
 "nbformat": 4,
 "nbformat_minor": 2
}
