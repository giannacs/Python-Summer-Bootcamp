{
 "cells": [
  {
   "cell_type": "markdown",
   "metadata": {},
   "source": [
    "# Exercise 1\n",
    "#### Tip Calculator!!\n",
    "Cost of meal = 54.76\n",
    "<br>\n",
    "Tax = 7.85%\n",
    "<br>\n",
    "Tip = 15%\n",
    "<br>\n",
    "Find tax amount, cost after tax, tip amount, and total cost"
   ]
  },
  {
   "cell_type": "code",
   "execution_count": 1,
   "metadata": {},
   "outputs": [
    {
     "name": "stdout",
     "output_type": "stream",
     "text": [
      "My original meal cost is 54.76\n",
      "Tax amount is:  4.29866\n",
      "Cost after tax is:  59.058659999999996\n",
      "Tip amount is:  8.858799\n",
      "Total cost is:  67.917459\n"
     ]
    }
   ],
   "source": [
    "# Create a variable for cost of meal, tax and tip and assign their values\n",
    "# Note that percentage is not captured in programming languages. Divide by 100 instead. \n",
    "cost_of_meal = 54.76\n",
    "tax = 0.0785\n",
    "tip = 0.15\n",
    "\n",
    "# Calculate tax amount by creating a variable for it and assign it to a formula using the variables for cost of meal and tax\n",
    "tax_amount = tax * cost_of_meal\n",
    "\n",
    "# Calculate cost after tax\n",
    "cost_after_tax = cost_of_meal + tax_amount\n",
    "\n",
    "# Calculate tip amount\n",
    "# Hint: Calculate the tip amount the cost after tax\n",
    "tip_amount = 0.15 * cost_after_tax\n",
    "\n",
    "# Calculate total amount\n",
    "total = cost_after_tax + tip_amount\n",
    "\n",
    "print('My original meal cost is', cost_of_meal)\n",
    "\n",
    "# Follow the example above and print the tax amount\n",
    "print('Tax amount is: ', tax_amount)\n",
    "\n",
    "# Print the cost after tax\n",
    "print('Cost after tax is: ', cost_after_tax)\n",
    "\n",
    "# Print the tip amount\n",
    "print('Tip amount is: ', tip_amount)\n",
    "\n",
    "# Print the total cost of the meal\n",
    "print('Total cost is: ', total)"
   ]
  },
  {
   "cell_type": "markdown",
   "metadata": {},
   "source": [
    "# Exercise 2\n",
    "#### Comparators\n",
    "1. Take two number from user and check whether they are equal or not.<br><br>\n",
    "2. Take 3 inputs from user and check if\n",
    "   * they all are equal\n",
    "   * any of two are equal<br>\n",
    "   **HINT**:  use **and**, **or**<br><br> \n",
    "3. Take two number from user and check whether the sum is greater than 5, less than 5 or equal to 5.<br>\n",
    "   **HINT**:  For Python3 users, since the **input** outputs a string, use the **float( )** to convert to a floating number before addding<br><br>   \n",
    "4. Judge the follwing expressions :<br>\n",
    "   **not(True and True)**<br>\n",
    "   **True or False**<br>\n",
    "   **not(False and True)**<br>\n",
    "   **False and False**<br>\n",
    "   What do you think are the results?<br>\n",
    "   Try them on commandline\n",
    "\n",
    "#### Solution 2.1"
   ]
  },
  {
   "cell_type": "code",
   "execution_count": 2,
   "metadata": {},
   "outputs": [
    {
     "name": "stdout",
     "output_type": "stream",
     "text": [
      "Enter first number: 77\n",
      "Enter second number: 77\n",
      "True\n"
     ]
    }
   ],
   "source": [
    "first = input(\"Enter first number: \")\n",
    "second = input(\"Enter second number: \")\n",
    "print(first == second)"
   ]
  },
  {
   "cell_type": "markdown",
   "metadata": {},
   "source": [
    "#### Solution 2.2"
   ]
  },
  {
   "cell_type": "code",
   "execution_count": 3,
   "metadata": {
    "scrolled": true
   },
   "outputs": [
    {
     "name": "stdout",
     "output_type": "stream",
     "text": [
      "first number: 34579\n",
      "second number: 448\n",
      "third number: 448\n",
      "All are equal is : False\n",
      "Any of the three are equal: True\n"
     ]
    }
   ],
   "source": [
    "first = input(\"first number: \")\n",
    "second = input(\"second number: \")\n",
    "third = input(\"third number: \" )\n",
    "all_equal = (first == second and second == third and third == first)\n",
    "print(\"All are equal is :\", all_equal)\n",
    "any_equal = (first == second or second == third or third == first)\n",
    "print(\"Any of the three are equal:\", any_equal)"
   ]
  },
  {
   "cell_type": "markdown",
   "metadata": {},
   "source": [
    "#### Solution 2.3"
   ]
  },
  {
   "cell_type": "code",
   "execution_count": 4,
   "metadata": {},
   "outputs": [
    {
     "name": "stdout",
     "output_type": "stream",
     "text": [
      "first number: 1.256\n",
      "second number: 2.35\n",
      "Sum is greater than 5:  False\n",
      "Sum is equal to 5:  True\n",
      "Sum is lesser than 5:  False\n"
     ]
    }
   ],
   "source": [
    "first = float(input(\"first number: \"))\n",
    "second = float(input(\"second number: \"))\n",
    "sum = first + second\n",
    "print(\"Sum is greater than 5: \", sum > 5)\n",
    "print(\"Sum is equal to 5: \", sum < 5)\n",
    "print(\"Sum is lesser than 5: \", sum == 5)"
   ]
  },
  {
   "cell_type": "code",
   "execution_count": 5,
   "metadata": {},
   "outputs": [
    {
     "name": "stdout",
     "output_type": "stream",
     "text": [
      "False\n",
      "True\n",
      "True\n",
      "False\n"
     ]
    }
   ],
   "source": [
    "print(not(True and True))\n",
    "print(True or False)\n",
    "print(not(False and True))\n",
    "print(False and False)"
   ]
  }
 ],
 "metadata": {
  "kernelspec": {
   "display_name": "Python 3",
   "language": "python",
   "name": "python3"
  },
  "language_info": {
   "codemirror_mode": {
    "name": "ipython",
    "version": 3
   },
   "file_extension": ".py",
   "mimetype": "text/x-python",
   "name": "python",
   "nbconvert_exporter": "python",
   "pygments_lexer": "ipython3",
   "version": "3.6.5"
  }
 },
 "nbformat": 4,
 "nbformat_minor": 2
}
