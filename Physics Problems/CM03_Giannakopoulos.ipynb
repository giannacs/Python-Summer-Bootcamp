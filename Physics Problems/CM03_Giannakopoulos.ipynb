{
 "cells": [
  {
   "cell_type": "markdown",
   "metadata": {},
   "source": [
    "Monte Carlo integration\n",
    "=======================\n",
    "\n",
    "Imagine that we want to measure the area of a pond with arbitrary shape.\n",
    "Suppose that this pond is in the middle of a field with known area $A$.\n",
    "If we throw $N$ stones randomly, such that they land within the\n",
    "boundaries of the field, and we count the number of stones that fall in\n",
    "the pond $N_{in}$, the area of the pond will be approximately\n",
    "proportional to the fraction of stones that make a splash, multiplied by\n",
    "$A$: $$A_{pond}=\\frac{N_{in}}{N}A.$$ This simple procedure is an example\n",
    "of the “Monte Carlo” method.\n",
    "\n",
    "Simple Monte Carlo integration\n",
    "------------------------------\n",
    "\n",
    "More generally, imagine a rectangle of height $H$ in the integration\n",
    "interval $[a,b]$, such that the function $f(x)$ is within its\n",
    "boundaries. Compute $n$ pairs of random numbers $(x_i,y_i)$ such that\n",
    "they are uniformly distributed inside this rectangle. The fraction of\n",
    "points that fall within the area contained below $f(x)$, <span>*i.\n",
    "e.*</span>, that satisfy $y_i \\leq f(x_i)$ is an estimate of the ratio of the integral of $f(x)$ and the area of the rectangle. Hence, the\n",
    "estimate of the integral will be given by:\n",
    "$$\\int _a^b{f(x)dx} \\simeq I(N) = \\frac{N_{in}}{N}H(b-a).\n",
    "$$\n",
    "\n",
    "Another Monte Carlo procedure is based on the definition:\n",
    "$$\\langle f \\rangle=\\frac{1}{(b-a)} \\int _a^b{f(x)dx}.\n",
    "$$ In order to determine this average, we sample the\n",
    "value of $f(x)$:\n",
    "$$\\langle f \\rangle \\simeq \\frac{1}{N}\\sum_{i=1}^{N}f(x_i),$$ where the\n",
    "$N$ values $x_i$ are distributed uniformly in the interval $[a,b]$. The\n",
    "integral will be given by $$I(N)=(b-a) \\langle f \\rangle .$$\n",
    "Monte Carlo error analysis\n",
    "--------------------------\n",
    "\n",
    "The Monte Carlo method clearly yields approximate results. The accuracy\n",
    "depends on the number of values $N$ that we use for the average. A\n",
    "possible measure of the error is the “variance” $\\sigma^2$ defined by:\n",
    "$$\\sigma ^2=\\langle f^2 \\rangle - \\langle f \\rangle ^2,\n",
    "$$ where\n",
    "$$\\langle f \\rangle = \\frac{1}{N} \\sum_{i=1}^N f(x_i)$$ and\n",
    "$$\\langle f^2 \\rangle = \\frac{1}{N} \\sum_{i=1}^{N} f(x_i)^2.$$ The\n",
    "“standard deviation” is $\\sigma$. However, we should expect that the\n",
    "error decreases with the number of points $N$, and the quantity $\\sigma$\n",
    "defined above does not. Hence, this cannot be a good\n",
    "measure of the error.\n",
    "\n",
    "Imagine that we perform several measurements of the integral, each of\n",
    "them yielding a result $I_n$. These values have been obtained with\n",
    "different sequences of $N$ random numbers. According to the central\n",
    "limit theorem, these values would be normally distributed around a mean\n",
    "$\\langle I\n",
    "\\rangle$. Suppose that we have a set of $M$ of such measurements\n",
    "${I_n}$. A convenient measure of the differences of these measurements\n",
    "is the “standard deviation of the means” $\\sigma_M$:\n",
    "$$\\sigma_M ^2=\\langle I^2 \\rangle - \\langle I \\rangle ^2,\n",
    "$$ where\n",
    "$$\\langle I \\rangle = \\frac{1}{M} \\sum_{n=1}^M I_n$$ and\n",
    "$$\\langle I^2 \\rangle = \\frac{1}{M} \\sum_{n=1}^{M} I_n^2.$$ \n",
    "It can be proven that\n",
    "$$\\sigma_M \\approx \\sigma/\\sqrt{N}.\n",
    "$$ This relation becomes exact in the limit of a very\n",
    "large number of measurements. Note that this expression implies that the\n",
    "error decreases with the square root of the number of trials, meaning\n",
    "that if we want to reduce the error by a factor 10, we need 100 times\n",
    "more points for the average.\n",
    "\n",
    "### Exercise CM#.1 (guided): \n",
    "#### One dimensional integration \n",
    "\n",
    "1.  Write a program that implements the “hit and miss” Monte Carlo\n",
    "    integration algorithm. Find the estimate $I(N)$ for the integral of\n",
    "    $$f(x)=4\\sqrt{1-x^2}$$ as a function of $N$, in the interval\n",
    "    $(0,1)$. Choose $H=1$, and sample only the $x$-dependent part\n",
    "    $\\sqrt{1-x^2}$, and multiply the result by 4. Calculate the\n",
    "    difference between $I(N)$ and the exact result $\\pi$. This\n",
    "    difference is a measure of the error associated with the Monte\n",
    "    Carlo estimate. Make a log-log plot of the error as a function of\n",
    "    $N$. What is the approximate functional dependence of the error on\n",
    "    $N$ for large $N$?\n",
    "\n",
    "2.  Estimate the integral of $f(x)$ using the simple Monte Carlo\n",
    "    integration by averaging over $N$ points, using (\\[mc\\_integral2\\]),\n",
    "    and compute the error as a function of $N$, for $N$ up to 10,000.\n",
    "    Determine the approximate functional dependence of the error on $N$\n",
    "    for large $N$. How many trials are necessary to determine $I_N$ to\n",
    "    two decimal places?\n",
    "\n",
    "3.  Perform 10 measurements $I_n(N)$, with $N=10,000$ using different\n",
    "    random sequences. Show in a table the values of $I_n$ and $\\sigma$\n",
    "    according to (\\[mc\\_integral2\\]) and (\\[mc\\_sigma\\]).\n",
    "    Use (\\[mc\\_sigmam\\]) to estimate the standard deviation of the\n",
    "    means, and compare to the values obtained from (\\[mc\\_sigma2\\])\n",
    "    using the 100,000 values.\n",
    "\n",
    "4.  To verify that your result for the error is independent of the\n",
    "    number of sets you used to divide your data, repeat the previous\n",
    "    item grouping your results in 20 groups of 5,000 points each.\n"
   ]
  },
  {
   "cell_type": "code",
   "execution_count": 2,
   "metadata": {},
   "outputs": [
    {
     "data": {
      "image/png": "[encoded data removed]",
      "text/plain": [
       "<Figure size 432x288 with 1 Axes>"
      ]
     },
     "metadata": {
      "needs_background": "light"
     },
     "output_type": "display_data"
    }
   ],
   "source": [
    "%matplotlib inline\n",
    "import numpy as np\n",
    "from matplotlib import pyplot\n",
    "\n",
    "x = np.arange(0,1,0.02)\n",
    "pyplot.plot(x, 4*np.sqrt(1-x**2));"
   ]
  },
  {
   "cell_type": "code",
   "execution_count": 3,
   "metadata": {},
   "outputs": [
    {
     "name": "stdout",
     "output_type": "stream",
     "text": [
      "100 77 3.08 0.061592653589793045\n",
      "200 141 2.82 0.3215926535897933\n",
      "400 318 3.18 0.038407346410207044\n",
      "800 638 3.19 0.04840734641020683\n",
      "1600 1215 3.0375 0.10409265358979303\n",
      "3200 2510 3.1375 0.004092653589792938\n",
      "6400 5057 3.160625 0.019032346410206902\n",
      "12800 10096 3.155 0.013407346410206689\n",
      "25600 20105 3.14140625 0.00018640358979293836\n",
      "51200 40225 3.142578125 0.000985471410206884\n",
      "102400 80453 3.1426953125 0.0011026589102067774\n",
      "204800 160520 3.13515625 0.006436403589793027\n",
      "409600 321621 3.140830078125 0.0007625754647930805\n",
      "819200 642960 3.139453125 0.0021395285897929384\n",
      "1638400 1287000 3.14208984375 0.000497190160206884\n",
      "3276800 2572445 3.140191650390625 0.0014010031991680272\n"
     ]
    },
    {
     "data": {
      "image/png": "[encoded data removed]",
      "text/plain": [
       "<Figure size 432x288 with 1 Axes>"
      ]
     },
     "metadata": {
      "needs_background": "light"
     },
     "output_type": "display_data"
    }
   ],
   "source": [
    "\n",
    "# Hit and miss Monte Carlo integration\n",
    "ngroups = 16\n",
    "\n",
    "I = np.zeros(ngroups)\n",
    "N = np.zeros(ngroups)\n",
    "E = np.zeros(ngroups)\n",
    "\n",
    "n0 = 100\n",
    "for i in range(ngroups):\n",
    "\n",
    "    N[i] = n0\n",
    "    x = np.random.random(n0)\n",
    "    y = np.random.random(n0)\n",
    "    I[i] = 0.\n",
    "    Nin = 0\n",
    "    for j in range(n0):\n",
    "        if(y[j] < np.sqrt(1-x[j]**2)):\n",
    "            Nin += 1\n",
    "            \n",
    "    I[i] = 4.*float(Nin)/float(n0)\n",
    "    E[i] = abs(I[i]-np.pi)\n",
    "    print (n0,Nin,I[i],E[i])\n",
    "    n0 *= 2\n",
    "    \n",
    "            \n",
    "pyplot.plot(N,E,ls='-',c='red',lw=3);\n",
    "pyplot.plot(N,0.8/np.sqrt(N),ls='-',c='blue',lw=3);\n",
    "\n",
    "pyplot.xscale('log')\n",
    "pyplot.yscale('log')"
   ]
  },
  {
   "cell_type": "markdown",
   "metadata": {},
   "source": [
    "### Exercise CM#.2 (challenge): \n",
    "#### Importance of randomness \n",
    "\n",
    "To examine the effects of a poor random number generator, modify your\n",
    "program to use the linear congruential random number generator using the\n",
    "parameters $a=5$, $c=0$ and the seed $x_1=1$. Repeat the integral of the\n",
    "previous exercise and compare your results."
   ]
  },
  {
   "cell_type": "markdown",
   "metadata": {},
   "source": [
    "## Example\n",
    "\n",
    "### Monte Carlo Integration"
   ]
  },
  {
   "cell_type": "code",
   "execution_count": 4,
   "metadata": {},
   "outputs": [
    {
     "name": "stdout",
     "output_type": "stream",
     "text": [
      "100 2.954039367819356 0.18755328577043695\n",
      "200 3.2069203033769593 0.06532764978716621\n",
      "400 3.1823528785061383 0.040760224916345233\n",
      "800 3.144681188759477 0.0030885351696841035\n",
      "1600 3.1196012688900474 0.02199138469974571\n",
      "3200 3.149477895553662 0.007885241963868861\n",
      "6400 3.135949005414844 0.005643648174949334\n",
      "12800 3.1241575900584775 0.01743506353131563\n",
      "25600 3.14685451950441 0.005261865914616859\n",
      "51200 3.1389251545676204 0.00266749902217267\n",
      "102400 3.138455692440567 0.003136961149226014\n",
      "204800 3.145159921582526 0.00356726799273277\n",
      "409600 3.1408561286401695 0.0007365249496236181\n",
      "819200 3.1425897377316283 0.0009970841418351917\n",
      "1638400 3.1405351262582344 0.0010575273315587275\n",
      "3276800 3.141135810675188 0.0004568429146050157\n"
     ]
    },
    {
     "data": {
      "image/png": "[encoded data removed]",
      "text/plain": [
       "<Figure size 432x288 with 1 Axes>"
      ]
     },
     "metadata": {
      "needs_background": "light"
     },
     "output_type": "display_data"
    }
   ],
   "source": [
    "# Simple Monte Carlo Integration\n",
    "ngroups = 16\n",
    "\n",
    "I = np.zeros(ngroups)\n",
    "N = np.zeros(ngroups)\n",
    "E = np.zeros(ngroups)\n",
    "\n",
    "n0 = 100\n",
    "for i in range(ngroups):\n",
    "\n",
    "    N[i] = n0\n",
    "    r = np.random.random(n0)\n",
    "    I[i] = 0.\n",
    "    for j in range(n0):\n",
    "        x = r[j]\n",
    "        I[i] += np.sqrt(1-x**2)\n",
    "        \n",
    "    I[i] *= 4./float(n0)\n",
    "    E[i] = abs(I[i]-np.pi)\n",
    "    print (n0,I[i],E[i])\n",
    "    n0 *= 2\n",
    "    \n",
    "            \n",
    "pyplot.plot(N,E,ls='-',c='red',lw=3);\n",
    "pyplot.plot(N,0.8/np.sqrt(N),ls='-',c='blue',lw=3);\n",
    "pyplot.xscale('log')\n",
    "pyplot.yscale('log')"
   ]
  },
  {
   "cell_type": "code",
   "execution_count": 5,
   "metadata": {},
   "outputs": [
    {
     "name": "stdout",
     "output_type": "stream",
     "text": [
      "Total samples:  67108864\n",
      "3.141583722678854 0.8926866009136145 8.93091093923104e-06\n",
      "1 :  0.0 0.0 0.0\n",
      "=============================\n",
      "2 :  7.063117711277229e-05 4.994378429962936e-05 1.2193306713776699e-08\n",
      "=============================\n",
      "4 :  0.0002575033238386842 0.0001287516619193421 6.286702242155376e-08\n",
      "=============================\n",
      "16 :  0.0006352855250768122 0.00015882138126920305 3.101980102914122e-07\n",
      "=============================\n",
      "64 :  0.0009010028852076129 0.00011262536065095161 8.798856300855594e-07\n",
      "=============================\n",
      "256 :  0.0015840000598110419 9.900000373819012e-05 3.093750116818441e-06\n"
     ]
    }
   ],
   "source": [
    "n0 = int(2**26)\n",
    "print(\"Total samples: \", n0)\n",
    "I = np.zeros(n0)\n",
    "r = np.random.random(n0)\n",
    "for j in range(n0):\n",
    "    x = r[j]\n",
    "    I[j] = 4.*np.sqrt(1-x**2)\n",
    "\n",
    "def group_measurements(ngroups):\n",
    "    global I,n0\n",
    "    \n",
    "    nmeasurements = n0//ngroups\n",
    "    Im = 0.\n",
    "    Im2 = 0.\n",
    "    for n in range(ngroups):\n",
    "        Ig = 0.\n",
    "        Ig2 = 0.\n",
    "        for i in range(n*nmeasurements,(n+1)*nmeasurements):\n",
    "            Ig += I[i]\n",
    "            Ig2 += I[i]**2\n",
    "        Ig /= nmeasurements\n",
    "        Ig2 /= nmeasurements\n",
    "        sigma = np.sqrt(Ig2-Ig**2)\n",
    "        if ngroups == 1: \n",
    "            print(Ig,sigma,np.abs(Ig-np.pi))\n",
    "        Im += Ig\n",
    "        Im2 += Ig**2\n",
    "    Im /= ngroups\n",
    "    Im2 /= ngroups\n",
    "    sigma = np.sqrt(Im2-Im**2)\n",
    "    print(ngroups,\": \",sigma,sigma/np.sqrt(ngroups),sigma/np.sqrt(nmeasurements))\n",
    "    \n",
    "group_measurements(int(1))\n",
    "print(\"=============================\")\n",
    "group_measurements(int(2))\n",
    "print(\"=============================\")\n",
    "group_measurements(int(2**2))\n",
    "print(\"=============================\")\n",
    "group_measurements(int(2**4))\n",
    "print(\"=============================\")\n",
    "group_measurements(int(2**6))\n",
    "print(\"=============================\")\n",
    "group_measurements(int(2**8))\n",
    "\n"
   ]
  },
  {
   "cell_type": "markdown",
   "metadata": {},
   "source": [
    "Variance reduction\n",
    "------------------\n",
    "\n",
    "If the function being integrated does not fluctuate too much in the\n",
    "interval of integration, and does not differ much from the average\n",
    "value, then the standard Monte Carlo mean-value method should work well\n",
    "with a reasonable number of points. Otherwise, we will find that the\n",
    "variance is very large, meaning that some points will make small\n",
    "contributions, while others will make large contributions to the\n",
    "integral. If this is the case, the algorithm will be very inefficient.\n",
    "The method can be improved by splitting the function $f(x)$ in two\n",
    "$f(x)=f_1(x)+f_2(x)$, such that the integral of $f_1(x)$ is known, and\n",
    "$f_2(x)$ as a small variance. The “variance reduction” technique,\n",
    "consists then in evaluating the integral of $f_2(x)$ to obtain:\n",
    "$$\\int _a^b{f(x)dx}=\\int _a^b {f_1(x)dx} + \\int _a^b{f_2(x)dx} = \\int\n",
    "_a^b{f_1(x)dx}+J.$$\n",
    "\n",
    "Importance Sampling\n",
    "-------------------\n",
    "\n",
    "Imagine that we want to sample the function $f(x)=e^{-x^2}$ in the\n",
    "interval $[0,1]$. It is evident that most of our points will fall in the\n",
    "region where the value of $f(x)$ is very small, and therefore we will\n",
    "need a large number of values to achieve a decent accuracy. A way to\n",
    "improve the measurement by reducing the variance is obtained by\n",
    "“importance sampling”. As the name says, the idea is to sample the\n",
    "regions with larger contributions to the integral. For this goal, we\n",
    "introduce a probability distribution $P(x)$ normalized in the interval\n",
    "of integration $$\\int _a^b{P(x)dx} = 1.$$ Then, we can rewrite the\n",
    "integral of $f(x)$ as $$I=\\int _a^b{\\frac{f(x)}{P(x)}P(x)dx}\n",
    "$$ We can evaluate this integral, by sampling\n",
    "according to the probability distribution $P(x)$ and evaluating the sum\n",
    "$$I(N)=\\frac{1}{N} \\sum_{i=1}^N \\frac{f(x_i)}{P(x_i)}.\n",
    "$$ Note that for the uniform case $P(x)=1/(b-a)$, the\n",
    "expression reduces to the simple Monte Carlo integral.\n",
    "\n",
    "We are free to choose $P(x)$ now. We wish to do it in a way to reduce\n",
    "and minimize the variance of the integrand $f(x)/P(x)$. The way to to\n",
    "this is picking a $P(x)$ that mimics $f(x)$ where $f(x)$ is large. if we\n",
    "are able to determine an appropriate $P(x)$, the integrand will be slowly\n",
    "varying, and hence the variance will be reduced. Another consideration\n",
    "is that the generation of points according to the distribution $P(x)$\n",
    "should be a simple task. As an example, let us consider again the\n",
    "integral $$I=\\int _0^1 {e^{-x^2}dx}.$$ A reasonable choice for a weigh\n",
    "function is $P(x)=Ae^{-x}$, where $A$ is a normalization constant.\n",
    "\n",
    "Notice that for $P(x)=f(x)$ the variance is zero! This is known as the\n",
    "zero variance property. There is a catch, though: The probability function\n",
    "$P(x)$ needs to be normalized, implying that in reality, $P(x)=f(x)/\\int f(x)dx$, which\n",
    "assumes that we know in advance precisely the integral that we are trying to calculate!\n",
    "\n",
    "### Exercise CM#.3 (guided): \n",
    "#### Importance sampling \n",
    "\n",
    "1.  Choose the weight function $P(x)=e^{-x}$ and evaluate the integral:\n",
    "    $$\\int _0^{\\infty} {x^{3/2}e^{-x}dx}.$$\n",
    "\n",
    "2.  Choose $P(x)=e^{-ax}$ and estimate the integral\n",
    "    $$\\int _0^{\\pi} \\frac{dx}{x^2+\\cos ^2{x}}.$$ Determine the value of\n",
    "    $a$ that minimizes the variance of the integral.\n",
    "\n"
   ]
  },
  {
   "cell_type": "code",
   "execution_count": 6,
   "metadata": {},
   "outputs": [
    {
     "data": {
      "image/png": "[encoded data removed]",
      "text/plain": [
       "<Figure size 432x288 with 1 Axes>"
      ]
     },
     "metadata": {
      "needs_background": "light"
     },
     "output_type": "display_data"
    }
   ],
   "source": [
    "pyplot.xlim(0,10)\n",
    "x = np.arange(0,10,0.1)\n",
    "pyplot.plot(x,np.exp(-x));\n",
    "pyplot.plot(x,np.exp(-x**2));\n",
    "pyplot.plot(x,x**1.5*np.exp(-x));"
   ]
  },
  {
   "cell_type": "code",
   "execution_count": 7,
   "metadata": {},
   "outputs": [
    {
     "name": "stdout",
     "output_type": "stream",
     "text": [
      "Trapezoids:  1.3293401896452883\n",
      "Simple Monte Carlo:  0.20055380076019683\n",
      "Importance Sampling:  1.3309326109393844\n"
     ]
    }
   ],
   "source": [
    "# Trapezoidal integration\n",
    "def trapezoids(func, xmin, xmax, nmax):\n",
    "    Isim = func(xmin)+func(xmax)\n",
    "    h = (xmax-xmin)/nmax\n",
    "    for i in range(1,nmax):\n",
    "        x = xmin+i*h\n",
    "        Isim += 2*func(x)\n",
    "\n",
    "    Isim *= h/2\n",
    "    return Isim\n",
    "\n",
    "def f(x):\n",
    "    return x**1.5*np.exp(-x)\n",
    "    \n",
    "    \n",
    "print(\"Trapezoids: \", trapezoids(f, 0., 20., 100000))\n",
    "\n",
    "# Simple Monte Carlo integration\n",
    "n0 = 1000000\n",
    "r = np.random.random(n0)\n",
    "\n",
    "Itot = np.sum(r**1.5*np.exp(-r))\n",
    "print(\"Simple Monte Carlo: \", Itot/n0)\n",
    "\n",
    "x = -np.log(r)\n",
    "Itot = np.sum(x**1.5)\n",
    "print(\"Importance Sampling: \", Itot/n0)"
   ]
  },
  {
   "cell_type": "code",
   "execution_count": 8,
   "metadata": {},
   "outputs": [
    {
     "data": {
      "image/png": "[encoded data removed]",
      "text/plain": [
       "<Figure size 432x288 with 1 Axes>"
      ]
     },
     "metadata": {
      "needs_background": "light"
     },
     "output_type": "display_data"
    }
   ],
   "source": [
    "pyplot.xlim(0,np.pi)\n",
    "x = np.arange(0,np.pi,0.05)\n",
    "pyplot.plot(x,1./(x**2+np.cos(x)**2));\n",
    "pyplot.plot(x,np.exp(-x));\n",
    "pyplot.plot(x,np.exp(-2*x));\n",
    "pyplot.plot(x,np.exp(-0.2*x));"
   ]
  },
  {
   "cell_type": "code",
   "execution_count": 9,
   "metadata": {},
   "outputs": [
    {
     "name": "stdout",
     "output_type": "stream",
     "text": [
      "Trapezoids:  1.5811879708476726\n",
      "Simple Monte Carlo:  1.5805522238977725\n",
      "Importance Sampling:\n",
      "0.1 1.5269139849944797 0.0010175215024067774\n",
      "0.2 1.4990666261710495 0.0006507736490908213\n",
      "0.30000000000000004 1.491214975382505 0.0004903004050121477\n",
      "0.4 1.498458290263806 0.00039712570165597623\n",
      "0.5 1.5158270718615954 0.00033307661682631216\n",
      "0.6 1.5390469117057257 0.0002817175384606266\n",
      "0.7000000000000001 1.5620688736880735 0.00023165065121186605\n",
      "0.8 1.5789785394113327 0.0001706691428049078\n",
      "0.9 1.5841606893706248 5.726949557633722e-05\n",
      "1.0 1.5733843216588894 0.00015723044798692816\n",
      "1.1 1.544578228718393 0.00023298632731769597\n",
      "1.2000000000000002 1.4981114279074577 0.0002892442457576181\n",
      "1.3000000000000003 1.4366936235522594 0.00033254282619671197\n",
      "1.4000000000000001 1.364468405819366 0.0003646769112224606\n",
      "1.5000000000000002 1.2857788225163147 0.00038656680034635123\n",
      "1.6 1.2046740315145976 0.00039929452395424464\n",
      "1.7000000000000002 1.124551574526792 0.0004044438149321845\n",
      "1.8000000000000003 1.0475313912235586 0.00040318837711438005\n",
      "1.9000000000000001 0.9751480491538956 0.000397245811959002\n",
      "2.0 0.9080765502476398 0.00038775474167806583\n"
     ]
    },
    {
     "data": {
      "image/png": "[encoded data removed]",
      "text/plain": [
       "<Figure size 432x288 with 1 Axes>"
      ]
     },
     "metadata": {
      "needs_background": "light"
     },
     "output_type": "display_data"
    }
   ],
   "source": [
    "# Trapezoidal integration\n",
    "\n",
    "def g(x):\n",
    "    return 1./(x**2+np.cos(x)**2)\n",
    "\n",
    "print(\"Trapezoids: \", trapezoids(g, 0., np.pi, 1000000))\n",
    "\n",
    "# Simple Monte Carlo integration\n",
    "n0 = 10000000\n",
    "a = np.arange(0.1,2.1,0.1)\n",
    "I = np.arange(0.1,2.1,0.1)\n",
    "\n",
    "r = np.random.random(n0)\n",
    "\n",
    "I0 = np.sum(1./((r*np.pi)**2+np.cos(r*np.pi)**2))\n",
    "print(\"Simple Monte Carlo: \", I0/n0*np.pi)\n",
    "\n",
    "# Importance Sampling\n",
    "print(\"Importance Sampling:\")\n",
    "x = -np.log(r)\n",
    "              \n",
    "i = 0\n",
    "for ai in a:\n",
    "    norm = (1.-np.exp(-ai*np.pi))/ai\n",
    "    x1 = norm*x/ai\n",
    "    Itot = 0.\n",
    "    Nin = 0\n",
    "    I2 = 0.\n",
    "    for xi in x1:\n",
    "        if(xi <= np.pi):\n",
    "            Nin += 1\n",
    "            Itot += g(xi)*np.exp(xi*ai)\n",
    "            I2 += (g(xi)*np.exp(xi*ai))**2\n",
    "\n",
    "    Itot *= norm\n",
    "    I2 *= norm\n",
    "\n",
    "    I[i] = Itot/Nin\n",
    "    i += 1\n",
    "    print(ai,Itot/Nin,np.sqrt(abs(Itot**2/Nin**2-I2/Nin))/np.sqrt(Nin))\n",
    "    \n",
    "pyplot.plot(a,I,ls='-',marker='o',c='red',lw=3);\n"
   ]
  },
  {
   "cell_type": "markdown",
   "metadata": {},
   "source": [
    "### Exercise CM#.4 (guided): \n",
    "#### The Metropolis algorithm \n",
    "\n",
    "Use the Metropolis algorithm to sample points according to a distribution\n",
    "and estimate the integral $$\\int _0^4 {x^2e^{-x}dx},$$ with\n",
    "$P(x)=e^{-x}$ for $0 \\leq x \\leq 4$. Plot the number of times the\n",
    "walker is at points $x_0$, $x_1$, $x_2$, ... Is the integrand sampled\n",
    "uniformly? If not, what is the approximate region of $x$ where the\n",
    "integrand is sampled more often?"
   ]
  },
  {
   "cell_type": "code",
   "execution_count": 10,
   "metadata": {},
   "outputs": [
    {
     "name": "stdout",
     "output_type": "stream",
     "text": [
      "Trapezoids:  1.5237933888733828\n",
      "Metropolis:  1.5192473937773794\n"
     ]
    },
    {
     "data": {
      "image/png": "[encoded data removed]",
      "text/plain": [
       "<Figure size 432x288 with 1 Axes>"
      ]
     },
     "metadata": {
      "needs_background": "light"
     },
     "output_type": "display_data"
    }
   ],
   "source": [
    "delta = 2\n",
    "xmin = 0.\n",
    "xmax = 4.\n",
    "\n",
    "def f(x):\n",
    "    return x**2*np.exp(-x)\n",
    "\n",
    "def P(x):\n",
    "    global xmin, xmax\n",
    "    if(x < xmin or x > xmax):\n",
    "        return 0.\n",
    "    return np.exp(-x)\n",
    "\n",
    "\n",
    "def metropolis(xold):\n",
    "    global delta\n",
    "    xtrial = np.random.random()    \n",
    "    xtrial = xold+(2*xtrial-1)*delta\n",
    "    weight = P(xtrial)/P(xold)\n",
    "    xnew = xold\n",
    "    if(weight >= 1): #Accept\n",
    "        xnew = xtrial\n",
    "    elif(weight != 0):\n",
    "        r = np.random.random()\n",
    "        if(r <= weight): #Accept\n",
    "            xnew = xtrial\n",
    "    return xnew\n",
    "\n",
    "\n",
    "xwalker = (xmax+xmin)/2.\n",
    "for i in range(100000):\n",
    "    xwalker = metropolis(xwalker)\n",
    "\n",
    "I0 = 0.\n",
    "N = 300000\n",
    "\n",
    "x = np.zeros(N)\n",
    "\n",
    "x[0] = xwalker\n",
    "for i in range(1,N):\n",
    "    for j in range(20):\n",
    "        xwalker = metropolis(xwalker)\n",
    "    x[i] = xwalker\n",
    "    I0 += x[i]**2\n",
    "\n",
    "binwidth=0.1\n",
    "pyplot.hist(x,bins=np.arange(xmin-1, xmax+1, 0.1),density=True);\n",
    "\n",
    "print(\"Trapezoids: \", trapezoids(f,xmin,xmax,100000))\n",
    "print(\"Metropolis: \", I0*(1.-np.exp(-4.))/N)"
   ]
  },
  {
   "cell_type": "code",
   "execution_count": 11,
   "metadata": {},
   "outputs": [
    {
     "data": {
      "image/png": "[encoded data removed]",
      "text/plain": [
       "<Figure size 432x288 with 1 Axes>"
      ]
     },
     "metadata": {
      "needs_background": "light"
     },
     "output_type": "display_data"
    }
   ],
   "source": [
    "pyplot.hist(x**2,bins=np.arange(xmin**2-1, xmax**2+1, 0.1),density=True);\n"
   ]
  },
  {
   "cell_type": "markdown",
   "metadata": {},
   "source": [
    "### Exercise CM#.5 (challenge):\n",
    "\n",
    "- Calculate the integral $\\int_0^1 x^2 dx=1/3$ using simple MC integration and importance sampling with $P(x)=x$.\n",
    "\n",
    "- Calculate the integral $\\int_0^1 \\sqrt{x}dx=2/3$ using simple MC integration and $P(x)=1-e^{-ax}$. Find the values of $a$ that minimizes the variance."
   ]
  },
  {
   "cell_type": "code",
   "execution_count": 1,
   "metadata": {},
   "outputs": [],
   "source": [
    "# Exercise CM#.2 Solution"
   ]
  },
  {
   "cell_type": "code",
   "execution_count": 5,
   "metadata": {},
   "outputs": [
    {
     "name": "stdout",
     "output_type": "stream",
     "text": [
      "100 82 3.28 0.1384073464102067\n",
      "200 157 3.14 0.0015926535897929917\n",
      "400 310 3.1 0.04159265358979303\n",
      "800 616 3.08 0.061592653589793045\n",
      "1600 1223 3.0575 0.08409265358979301\n",
      "3200 2483 3.10375 0.03784265358979333\n",
      "6400 4984 3.115 0.026592653589792903\n",
      "12800 10013 3.1290625 0.012530153589793258\n",
      "25600 20027 3.12921875 0.012373903589792956\n",
      "51200 40190 3.13984375 0.0017489035897932936\n",
      "102400 80473 3.1434765625 0.001883908910206955\n",
      "204800 160752 3.1396875 0.0019051535897931515\n",
      "409600 321431 3.138974609375 0.0026180442147931693\n",
      "819200 640533 3.1276025390625 0.013990114527293152\n",
      "1638400 1278634 3.1216650390625 0.01992761452729308\n"
     ]
    },
    {
     "data": {
      "image/png": "[encoded data removed]",
      "text/plain": [
       "<Figure size 432x288 with 1 Axes>"
      ]
     },
     "metadata": {
      "needs_background": "light"
     },
     "output_type": "display_data"
    }
   ],
   "source": [
    "# -*- coding: utf-8 -*-\n",
    "\"\"\"\n",
    "Created on Fri Mar  6 16:02:23 2020\n",
    "\n",
    "@author: giannacs\n",
    "\"\"\"\n",
    "\n",
    "import numpy as np\n",
    "from matplotlib import pyplot\n",
    "\n",
    "ngroups = 15\n",
    "n0 = 100\n",
    "coef = 5265347\n",
    "bigint = 65371367367\n",
    "seedx = 1.\n",
    "seedy = 2\n",
    "\n",
    "\n",
    "I = np.zeros(ngroups)\n",
    "N = np.zeros(ngroups)\n",
    "E = np.zeros(ngroups)\n",
    "\n",
    "\n",
    "for i in range(ngroups):\n",
    "\n",
    "    N[i] = n0\n",
    "    x = np.zeros(n0)\n",
    "    y = np.zeros(n0)\n",
    "    x1 = np.zeros(n0)\n",
    "    y1 = np.zeros(n0)\n",
    "    for k in range(n0):\n",
    "        x[0] = seedx\n",
    "        y[0] = seedy\n",
    "        x[k] = (coef*x[k-1])%bigint\n",
    "        y[k] = (coef*y[k-1])%bigint\n",
    "        x1[k] = float(x[k])/float(bigint)           #normalized Random Numbers from LRNG\n",
    "        y1[k] = float(y[k])/float(bigint)           #normalized Random Numbers from LRNG\n",
    "    \n",
    "\n",
    "    I[i] = 0.\n",
    "    Nin = 0\n",
    "    for j in range(0,n0-1):\n",
    "        if(y1[j] < np.sqrt(1-x1[j]**2)):\n",
    "            Nin += 1\n",
    "            \n",
    "    I[i] = 4.*float(Nin)/float(n0)\n",
    "    E[i] = abs(I[i]-np.pi)\n",
    "    print (n0,Nin,I[i],E[i])\n",
    "    \n",
    "    n0 = 2*n0\n",
    "    \n",
    "            \n",
    "pyplot.plot(N,E,ls='-',c='red',lw=3);\n",
    "pyplot.plot(N,0.8/np.sqrt(N),ls='-',c='blue',lw=3);\n",
    "\n",
    "pyplot.xscale('log')\n",
    "pyplot.yscale('log')\n",
    "\n",
    "\n",
    "\n",
    "#We see that the approximation is worse using an linear random number generator (LNRG)\n",
    "#Therefore it is important to have uncorrelated numbers to perform the integration. \n"
   ]
  },
  {
   "cell_type": "code",
   "execution_count": 1,
   "metadata": {},
   "outputs": [],
   "source": [
    "#Calculation of the integral  ∫10𝑥2𝑑𝑥=1/3  using simple MC integration and importance sampling with  𝑃(𝑥)=𝑥"
   ]
  },
  {
   "cell_type": "code",
   "execution_count": 10,
   "metadata": {},
   "outputs": [
    {
     "name": "stdout",
     "output_type": "stream",
     "text": [
      "Simple Monte Carlo:  0.47418136733484045\n",
      "Trapezoidal Integration Result:  0.3332333549989983\n"
     ]
    }
   ],
   "source": [
    "# -*- coding: utf-8 -*-\n",
    "\"\"\"\n",
    "Created on Wed Mar 18 14:54:06 2020\n",
    "\n",
    "@author: christos\n",
    "\"\"\"\n",
    "\n",
    "import numpy as np\n",
    "\n",
    "xmin = 0\n",
    "xmax = 1\n",
    "\n",
    "def f(x):\n",
    "    return x**2\n",
    "\n",
    "def P(x):\n",
    "    global xmin, xmax\n",
    "    if(x < xmin or x > xmax):\n",
    "        return 0.\n",
    "    return x\n",
    "\n",
    "n0 = 1000000\n",
    "r = np.random.random(n0)\n",
    "p = np.random.random(n0)\n",
    "    \n",
    "Itot = np.sum((r**2)/p)\n",
    "print(\"Simple Monte Carlo: \", Itot/(10*n0))\n",
    "\n",
    "\n",
    "#Compare with Simpson's Trapezoidal Integration \n",
    "\n",
    "\n",
    "def trap_integrator(func, a, b, N):\n",
    "    \n",
    "    h = (b-a)/N\n",
    "    n = np.arange(0,N)\n",
    "    sum1 = 0\n",
    "\n",
    "    for i in n[1:N-1] :\n",
    "        sum1 = sum1 + func(a + (i*h))\n",
    "        \n",
    "    sum2 = 0.5 * (func(a) + func(b))\n",
    "    total_sum = h * (sum1 + sum2)\n",
    "    \n",
    "    \n",
    "    return total_sum\n",
    "\n",
    "print(\"Trapezoidal Integration Result: \", trap_integrator(f,0,1,10000))"
   ]
  },
  {
   "cell_type": "code",
   "execution_count": 11,
   "metadata": {},
   "outputs": [],
   "source": [
    "# Calculation of the integral  ∫10𝑥⎯⎯√𝑑𝑥=2/3  using simple MC integration and  𝑃(𝑥)=1−𝑒−𝑎𝑥 .\n",
    "# Finding the values of  𝑎  that minimizes the variance.\n",
    "#Note: you might have to press Shift + Enter twice for the plot to appear"
   ]
  },
  {
   "cell_type": "code",
   "execution_count": 13,
   "metadata": {},
   "outputs": [
    {
     "name": "stdout",
     "output_type": "stream",
     "text": [
      "Trapezoidal Integration Result:  0.6665664641972324\n",
      "Importance Sampling:\n",
      "0.1 0.6377151618775411 0.029754440353162655\n",
      "0.2 0.6681324856702173 0.02594149094025977\n",
      "0.30000000000000004 0.6636244890789438 0.02375269475996721\n",
      "0.4 0.6609026021630215 0.02327778476983371\n",
      "0.5 0.6438479564867485 0.02290775341274728\n",
      "0.6 0.6354771972067443 0.02313401714110812\n",
      "0.7000000000000001 0.6403194208834444 0.023855355000192712\n",
      "0.8 0.6282688184312892 0.023910569047061764\n",
      "0.9 0.6047599484577428 0.02392635586902353\n",
      "1.0 0.5890326814575652 0.02435904333297051\n",
      "1.1 0.562335261923217 0.024285510706139334\n",
      "1.2000000000000002 0.551746865222825 0.025144033424036788\n",
      "1.3000000000000003 0.5273442381425718 0.02519101077091015\n",
      "1.4000000000000001 0.5015345236861061 0.025136541122576444\n",
      "1.5000000000000002 0.5062104236527882 0.02728784392630931\n",
      "1.6 0.4809698912707502 0.027104234941530754\n",
      "1.7000000000000002 0.45743427556462607 0.02703732397094587\n",
      "1.8000000000000003 0.4238795181750266 0.025915365634509156\n",
      "1.9000000000000001 0.40113536528226756 0.025904601978821513\n",
      "2.0 0.38339983656079046 0.02641466586456089\n"
     ]
    },
    {
     "data": {
      "image/png": "[encoded data removed]",
      "text/plain": [
       "<Figure size 432x288 with 1 Axes>"
      ]
     },
     "metadata": {
      "needs_background": "light"
     },
     "output_type": "display_data"
    }
   ],
   "source": [
    "# -*- coding: utf-8 -*-\n",
    "\"\"\"\n",
    "Created on Wed Mar 18 15:49:48 2020\n",
    "\n",
    "@author: christos\n",
    "\"\"\"\n",
    "\n",
    "import numpy as np\n",
    "from matplotlib import pyplot\n",
    "\n",
    "\n",
    "def f(x):\n",
    "    return np.sqrt(x)\n",
    "\n",
    "def trap_integrator(func, a, b, N):\n",
    "    \n",
    "    h = (b-a)/N\n",
    "    n = np.arange(0,N)\n",
    "    sum1 = 0\n",
    "\n",
    "    for i in n[1:N-1] :\n",
    "        sum1 = sum1 + func(a + (i*h))\n",
    "        \n",
    "    sum2 = 0.5 * (func(a) + func(b))\n",
    "    total_sum = h * (sum1 + sum2)\n",
    "    \n",
    "    \n",
    "    return total_sum\n",
    "\n",
    "print(\"Trapezoidal Integration Result: \", trap_integrator(f,0,1,10000))\n",
    "\n",
    "n0 = 1000\n",
    "a = np.arange(0.1,2.1,0.1)\n",
    "I = np.arange(0.1,2.1,0.1)\n",
    "r = np.random.random(n0)\n",
    "\n",
    "print(\"Importance Sampling:\")\n",
    "x = -np.log(r)\n",
    "\n",
    "             \n",
    "i = 0\n",
    "for ai in a:\n",
    "    norm = (1.-np.exp(-ai))/ai\n",
    "    x1 = norm*x/ai\n",
    "    Itot = 0.\n",
    "    Nin = 0\n",
    "    I2 = 0.\n",
    "    for xi in x1:\n",
    "        if(xi <= 1):\n",
    "            Nin += 1\n",
    "            Itot += f(xi)/np.exp(-xi*ai)\n",
    "            I2 += (f(xi)/np.exp(-xi*ai))**2\n",
    "\n",
    "    Itot *= norm\n",
    "    I2 *= norm\n",
    "\n",
    "    I[i] = Itot/Nin\n",
    "    i += 1\n",
    "    print(ai,Itot/Nin,np.sqrt(abs(Itot**2/Nin**2-I2/Nin))/np.sqrt(Nin))\n",
    "    \n",
    "pyplot.plot(a,I,ls='-',marker='o',c='red',lw=3);\n",
    "\n",
    "\n",
    "#in my first trial run the value that minimizes the variance is a = 0.1.\n",
    "#It is also the value that approximates the integral closest to its actual value\n"
   ]
  },
  {
   "cell_type": "code",
   "execution_count": null,
   "metadata": {},
   "outputs": [],
   "source": []
  }
 ],
 "metadata": {
  "kernelspec": {
   "display_name": "Python 3",
   "language": "python",
   "name": "python3"
  },
  "language_info": {
   "codemirror_mode": {
    "name": "ipython",
    "version": 3
   },
   "file_extension": ".py",
   "mimetype": "text/x-python",
   "name": "python",
   "nbconvert_exporter": "python",
   "pygments_lexer": "ipython3",
   "version": "3.8.5"
  }
 },
 "nbformat": 4,
 "nbformat_minor": 1
}
